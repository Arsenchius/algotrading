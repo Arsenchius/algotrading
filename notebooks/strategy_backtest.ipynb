{
 "cells": [
  {
   "cell_type": "code",
   "execution_count": 1,
   "metadata": {},
   "outputs": [],
   "source": [
    "from backtesting import set_bokeh_output\n",
    "set_bokeh_output(notebook=False)\n",
    "\n",
    "# !python3 -m pip install bokeh==2.4.3"
   ]
  },
  {
   "cell_type": "code",
   "execution_count": 2,
   "metadata": {},
   "outputs": [],
   "source": [
    "import sys\n",
    "from datetime import timedelta"
   ]
  },
  {
   "cell_type": "code",
   "execution_count": 3,
   "metadata": {},
   "outputs": [],
   "source": [
    "# sys.path.insert(1, '/home/kenny/algotrading/model_training')\n",
    "sys.path.insert(1, \"/Users/arsenchik/Desktop/dipploma/machine_learning_in_hft/algotrading/src/backtesting\")\n",
    "sys.path.insert(1, '/Users/arsenchik/Desktop/dipploma/machine_learning_in_hft/algotrading/src/models')\n",
    "sys.path.insert(1, '/Users/arsenchik/Desktop/dipploma/machine_learning_in_hft/algotrading/src/configs')\n",
    "sys.path.insert(1, \"/Users/arsenchik/Desktop/dipploma/machine_learning_in_hft/algotrading/src/data\")"
   ]
  },
  {
   "cell_type": "code",
   "execution_count": 4,
   "metadata": {},
   "outputs": [],
   "source": [
    "import numpy as np\n",
    "import pandas as pd\n",
    "import lightgbm as lgb\n",
    "from tqdm import tqdm\n",
    "from backtesting import Backtest, Strategy\n",
    "from sqlalchemy import create_engine, text\n",
    "import pandas_ta as pta\n",
    "from backtesting.lib import crossover\n",
    "\n",
    "from strategies import MultipleBasic, SmaCross, BinaryBasic, Multiple, Binary, Random\n",
    "from config import *\n",
    "from dataset import Data\n",
    "from experiments import EXPERIMENT_ID_TO_FEATURES"
   ]
  },
  {
   "cell_type": "code",
   "execution_count": 5,
   "metadata": {},
   "outputs": [],
   "source": [
    "url = DATABASE_URL_1MINUTE\n",
    "td_days = 100"
   ]
  },
  {
   "cell_type": "code",
   "execution_count": 6,
   "metadata": {},
   "outputs": [],
   "source": [
    "engine = create_engine(url=url)\n",
    "\n",
    "with engine.connect() as connection:\n",
    "        # query = \"SELECT name FROM sqlite_schema WHERE type='table'\"\n",
    "        # symbols = [item[0] for item in connection.execute(text(query)).fetchall()]\n",
    "        # for symbol in symbols:\n",
    "        symbol = 'BTCUSDT'\n",
    "        qry = f\"SELECT * FROM '{symbol}' WHERE Open_Time < '{pd.to_datetime('today') - timedelta(days = td_days)}'\"\n",
    "        data = pd.DataFrame(connection.execute(text(qry)))\n",
    "        data['Open_Time'] = pd.to_datetime(data['Open_Time'])\n",
    "        data.set_index(\"Open_Time\", inplace=True)\n",
    "        # data.index = pd.to_datetime(data.index)\n",
    "        # data.drop(['Close_Time'], axis=1, inplace=True)\n",
    "connection.close()"
   ]
  },
  {
   "cell_type": "code",
   "execution_count": 7,
   "metadata": {},
   "outputs": [
    {
     "data": {
      "text/html": [
       "<div>\n",
       "<style scoped>\n",
       "    .dataframe tbody tr th:only-of-type {\n",
       "        vertical-align: middle;\n",
       "    }\n",
       "\n",
       "    .dataframe tbody tr th {\n",
       "        vertical-align: top;\n",
       "    }\n",
       "\n",
       "    .dataframe thead th {\n",
       "        text-align: right;\n",
       "    }\n",
       "</style>\n",
       "<table border=\"1\" class=\"dataframe\">\n",
       "  <thead>\n",
       "    <tr style=\"text-align: right;\">\n",
       "      <th></th>\n",
       "      <th>Open</th>\n",
       "      <th>High</th>\n",
       "      <th>Low</th>\n",
       "      <th>Close</th>\n",
       "      <th>Volume</th>\n",
       "    </tr>\n",
       "    <tr>\n",
       "      <th>Open_Time</th>\n",
       "      <th></th>\n",
       "      <th></th>\n",
       "      <th></th>\n",
       "      <th></th>\n",
       "      <th></th>\n",
       "    </tr>\n",
       "  </thead>\n",
       "  <tbody>\n",
       "    <tr>\n",
       "      <th>2023-02-22 06:08:00</th>\n",
       "      <td>24101.42</td>\n",
       "      <td>24108.72</td>\n",
       "      <td>24092.42</td>\n",
       "      <td>24093.79</td>\n",
       "      <td>153.14142</td>\n",
       "    </tr>\n",
       "    <tr>\n",
       "      <th>2023-02-22 06:09:00</th>\n",
       "      <td>24092.79</td>\n",
       "      <td>24107.48</td>\n",
       "      <td>24090.28</td>\n",
       "      <td>24106.89</td>\n",
       "      <td>123.11680</td>\n",
       "    </tr>\n",
       "    <tr>\n",
       "      <th>2023-02-22 06:10:00</th>\n",
       "      <td>24106.15</td>\n",
       "      <td>24109.69</td>\n",
       "      <td>24093.49</td>\n",
       "      <td>24093.99</td>\n",
       "      <td>79.38456</td>\n",
       "    </tr>\n",
       "    <tr>\n",
       "      <th>2023-02-22 06:11:00</th>\n",
       "      <td>24095.00</td>\n",
       "      <td>24103.93</td>\n",
       "      <td>24092.78</td>\n",
       "      <td>24102.82</td>\n",
       "      <td>88.00198</td>\n",
       "    </tr>\n",
       "    <tr>\n",
       "      <th>2023-02-22 06:12:00</th>\n",
       "      <td>24102.82</td>\n",
       "      <td>24110.71</td>\n",
       "      <td>24082.57</td>\n",
       "      <td>24084.94</td>\n",
       "      <td>296.63354</td>\n",
       "    </tr>\n",
       "    <tr>\n",
       "      <th>...</th>\n",
       "      <td>...</td>\n",
       "      <td>...</td>\n",
       "      <td>...</td>\n",
       "      <td>...</td>\n",
       "      <td>...</td>\n",
       "    </tr>\n",
       "    <tr>\n",
       "      <th>2023-02-27 06:03:00</th>\n",
       "      <td>23400.53</td>\n",
       "      <td>23408.17</td>\n",
       "      <td>23388.30</td>\n",
       "      <td>23399.61</td>\n",
       "      <td>232.82946</td>\n",
       "    </tr>\n",
       "    <tr>\n",
       "      <th>2023-02-27 06:04:00</th>\n",
       "      <td>23398.94</td>\n",
       "      <td>23400.47</td>\n",
       "      <td>23380.33</td>\n",
       "      <td>23391.52</td>\n",
       "      <td>170.03786</td>\n",
       "    </tr>\n",
       "    <tr>\n",
       "      <th>2023-02-27 06:05:00</th>\n",
       "      <td>23391.52</td>\n",
       "      <td>23394.39</td>\n",
       "      <td>23380.41</td>\n",
       "      <td>23387.48</td>\n",
       "      <td>163.53791</td>\n",
       "    </tr>\n",
       "    <tr>\n",
       "      <th>2023-02-27 06:06:00</th>\n",
       "      <td>23388.23</td>\n",
       "      <td>23388.33</td>\n",
       "      <td>23370.34</td>\n",
       "      <td>23378.85</td>\n",
       "      <td>140.18729</td>\n",
       "    </tr>\n",
       "    <tr>\n",
       "      <th>2023-02-27 06:07:00</th>\n",
       "      <td>23378.28</td>\n",
       "      <td>23380.81</td>\n",
       "      <td>23371.17</td>\n",
       "      <td>23379.69</td>\n",
       "      <td>55.79914</td>\n",
       "    </tr>\n",
       "  </tbody>\n",
       "</table>\n",
       "<p>7200 rows × 5 columns</p>\n",
       "</div>"
      ],
      "text/plain": [
       "                         Open      High       Low     Close     Volume\n",
       "Open_Time                                                             \n",
       "2023-02-22 06:08:00  24101.42  24108.72  24092.42  24093.79  153.14142\n",
       "2023-02-22 06:09:00  24092.79  24107.48  24090.28  24106.89  123.11680\n",
       "2023-02-22 06:10:00  24106.15  24109.69  24093.49  24093.99   79.38456\n",
       "2023-02-22 06:11:00  24095.00  24103.93  24092.78  24102.82   88.00198\n",
       "2023-02-22 06:12:00  24102.82  24110.71  24082.57  24084.94  296.63354\n",
       "...                       ...       ...       ...       ...        ...\n",
       "2023-02-27 06:03:00  23400.53  23408.17  23388.30  23399.61  232.82946\n",
       "2023-02-27 06:04:00  23398.94  23400.47  23380.33  23391.52  170.03786\n",
       "2023-02-27 06:05:00  23391.52  23394.39  23380.41  23387.48  163.53791\n",
       "2023-02-27 06:06:00  23388.23  23388.33  23370.34  23378.85  140.18729\n",
       "2023-02-27 06:07:00  23378.28  23380.81  23371.17  23379.69   55.79914\n",
       "\n",
       "[7200 rows x 5 columns]"
      ]
     },
     "execution_count": 7,
     "metadata": {},
     "output_type": "execute_result"
    }
   ],
   "source": [
    "data"
   ]
  },
  {
   "cell_type": "code",
   "execution_count": 12,
   "metadata": {},
   "outputs": [
    {
     "data": {
      "text/html": [
       "<div>\n",
       "<style scoped>\n",
       "    .dataframe tbody tr th:only-of-type {\n",
       "        vertical-align: middle;\n",
       "    }\n",
       "\n",
       "    .dataframe tbody tr th {\n",
       "        vertical-align: top;\n",
       "    }\n",
       "\n",
       "    .dataframe thead th {\n",
       "        text-align: right;\n",
       "    }\n",
       "</style>\n",
       "<table border=\"1\" class=\"dataframe\">\n",
       "  <thead>\n",
       "    <tr style=\"text-align: right;\">\n",
       "      <th></th>\n",
       "      <th>Open</th>\n",
       "      <th>High</th>\n",
       "      <th>Low</th>\n",
       "      <th>Close</th>\n",
       "      <th>Volume</th>\n",
       "    </tr>\n",
       "    <tr>\n",
       "      <th>Open_Time</th>\n",
       "      <th></th>\n",
       "      <th></th>\n",
       "      <th></th>\n",
       "      <th></th>\n",
       "      <th></th>\n",
       "    </tr>\n",
       "  </thead>\n",
       "  <tbody>\n",
       "    <tr>\n",
       "      <th>2023-02-22 06:08:00</th>\n",
       "      <td>24101.42</td>\n",
       "      <td>24108.72</td>\n",
       "      <td>24092.42</td>\n",
       "      <td>24093.79</td>\n",
       "      <td>153.14142</td>\n",
       "    </tr>\n",
       "    <tr>\n",
       "      <th>2023-02-22 06:09:00</th>\n",
       "      <td>24092.79</td>\n",
       "      <td>24107.48</td>\n",
       "      <td>24090.28</td>\n",
       "      <td>24106.89</td>\n",
       "      <td>123.11680</td>\n",
       "    </tr>\n",
       "    <tr>\n",
       "      <th>2023-02-22 06:10:00</th>\n",
       "      <td>24106.15</td>\n",
       "      <td>24109.69</td>\n",
       "      <td>24093.49</td>\n",
       "      <td>24093.99</td>\n",
       "      <td>79.38456</td>\n",
       "    </tr>\n",
       "    <tr>\n",
       "      <th>2023-02-22 06:11:00</th>\n",
       "      <td>24095.00</td>\n",
       "      <td>24103.93</td>\n",
       "      <td>24092.78</td>\n",
       "      <td>24102.82</td>\n",
       "      <td>88.00198</td>\n",
       "    </tr>\n",
       "    <tr>\n",
       "      <th>2023-02-22 06:12:00</th>\n",
       "      <td>24102.82</td>\n",
       "      <td>24110.71</td>\n",
       "      <td>24082.57</td>\n",
       "      <td>24084.94</td>\n",
       "      <td>296.63354</td>\n",
       "    </tr>\n",
       "    <tr>\n",
       "      <th>...</th>\n",
       "      <td>...</td>\n",
       "      <td>...</td>\n",
       "      <td>...</td>\n",
       "      <td>...</td>\n",
       "      <td>...</td>\n",
       "    </tr>\n",
       "    <tr>\n",
       "      <th>2023-02-24 06:03:00</th>\n",
       "      <td>23880.78</td>\n",
       "      <td>23884.98</td>\n",
       "      <td>23878.17</td>\n",
       "      <td>23882.70</td>\n",
       "      <td>116.79325</td>\n",
       "    </tr>\n",
       "    <tr>\n",
       "      <th>2023-02-24 06:04:00</th>\n",
       "      <td>23883.41</td>\n",
       "      <td>23885.10</td>\n",
       "      <td>23878.12</td>\n",
       "      <td>23879.93</td>\n",
       "      <td>53.21691</td>\n",
       "    </tr>\n",
       "    <tr>\n",
       "      <th>2023-02-24 06:05:00</th>\n",
       "      <td>23879.93</td>\n",
       "      <td>23884.26</td>\n",
       "      <td>23876.92</td>\n",
       "      <td>23881.51</td>\n",
       "      <td>93.56253</td>\n",
       "    </tr>\n",
       "    <tr>\n",
       "      <th>2023-02-24 06:06:00</th>\n",
       "      <td>23882.07</td>\n",
       "      <td>23882.16</td>\n",
       "      <td>23828.57</td>\n",
       "      <td>23843.45</td>\n",
       "      <td>700.04713</td>\n",
       "    </tr>\n",
       "    <tr>\n",
       "      <th>2023-02-24 06:07:00</th>\n",
       "      <td>23843.45</td>\n",
       "      <td>23844.43</td>\n",
       "      <td>23784.56</td>\n",
       "      <td>23805.07</td>\n",
       "      <td>978.89365</td>\n",
       "    </tr>\n",
       "  </tbody>\n",
       "</table>\n",
       "<p>2880 rows × 5 columns</p>\n",
       "</div>"
      ],
      "text/plain": [
       "                         Open      High       Low     Close     Volume\n",
       "Open_Time                                                             \n",
       "2023-02-22 06:08:00  24101.42  24108.72  24092.42  24093.79  153.14142\n",
       "2023-02-22 06:09:00  24092.79  24107.48  24090.28  24106.89  123.11680\n",
       "2023-02-22 06:10:00  24106.15  24109.69  24093.49  24093.99   79.38456\n",
       "2023-02-22 06:11:00  24095.00  24103.93  24092.78  24102.82   88.00198\n",
       "2023-02-22 06:12:00  24102.82  24110.71  24082.57  24084.94  296.63354\n",
       "...                       ...       ...       ...       ...        ...\n",
       "2023-02-24 06:03:00  23880.78  23884.98  23878.17  23882.70  116.79325\n",
       "2023-02-24 06:04:00  23883.41  23885.10  23878.12  23879.93   53.21691\n",
       "2023-02-24 06:05:00  23879.93  23884.26  23876.92  23881.51   93.56253\n",
       "2023-02-24 06:06:00  23882.07  23882.16  23828.57  23843.45  700.04713\n",
       "2023-02-24 06:07:00  23843.45  23844.43  23784.56  23805.07  978.89365\n",
       "\n",
       "[2880 rows x 5 columns]"
      ]
     },
     "execution_count": 12,
     "metadata": {},
     "output_type": "execute_result"
    }
   ],
   "source": [
    "data[data.index < data.index[0] + pd.Timedelta(days=2)]"
   ]
  },
  {
   "cell_type": "code",
   "execution_count": null,
   "metadata": {},
   "outputs": [],
   "source": [
    "import lightgbm as lgb\n",
    "from sklearn.metrics import roc_auc_score, f1_score, accuracy_score\n",
    "\n",
    "def _slice_data(df: pd.DataFrame, timeframe: int, index_id: int) -> pd.DataFrame:\n",
    "    return df[df.index < df.index[index_id] + pd.Timedelta(days=timeframe)]\n",
    "\n",
    "\n",
    "def _training(df: pd.DataFrame):\n",
    "    model = lgb.Class"
   ]
  },
  {
   "cell_type": "code",
   "execution_count": 7,
   "metadata": {},
   "outputs": [],
   "source": [
    "# data['RSI'] = pta.rsi(data['Close'], length=21)\n",
    "# data['EMA_6'] = pta.ema(data['Close'], length=6)\n",
    "# data['EMA_22'] = pta.ema(data['Close'], length=22)\n",
    "# data['EMA_127'] = pta.ema(data['Close'], length=127)"
   ]
  },
  {
   "cell_type": "code",
   "execution_count": 8,
   "metadata": {},
   "outputs": [],
   "source": [
    "def _get_ema(close, index, length):\n",
    "    df = pd.DataFrame({\"data\": list(index), \"close\": list(close)}).set_index(\"data\")\n",
    "    return list(pta.ema(df.close, length=length))\n",
    "\n",
    "def _get_rsi(close, index, length):\n",
    "    df = pd.DataFrame(({\"data\": list(index), \"close\": list(close)})).set_index(\"data\")\n",
    "    return list(pta.rsi(df.close, length=length))\n",
    "\n",
    "def _get_macd_main_line(close, index, fast, slow, signal):\n",
    "    df = pd.DataFrame({\"data\": list(index), \"close\": list(close)}).set_index(\"data\")\n",
    "    return list(pta.macd(df.close, fast=fast, slow=slow, signal=signal)[\"MACD_12_26_9\"])\n",
    "\n",
    "def _get_macd_signal_line(close, index, fast, slow, signal):\n",
    "    df = pd.DataFrame({\"data\": list(index), \"close\": list(close)}).set_index(\"data\")\n",
    "    return list(pta.macd(df.close, fast=fast, slow=slow, signal=signal)[\"MACDs_12_26_9\"])\n",
    "\n",
    "def _get_macd_hist(close, index, fast, slow, signal):\n",
    "    df = pd.DataFrame({\"data\": list(index), \"close\": list(close)}).set_index(\"data\")\n",
    "    return list(pta.macd(df.close, fast=fast, slow=slow, signal=signal)[\"MACDh_12_26_9\"])\n"
   ]
  },
  {
   "cell_type": "code",
   "execution_count": 9,
   "metadata": {},
   "outputs": [],
   "source": [
    "# class MR(Strategy):\n",
    "\n",
    "\n",
    "#     def init(self):\n",
    "#         self.main_line = self.I(_get_macd_main_line, self.data.Close, self.data.index, 12,26,9,name=\"main_line\")\n",
    "#         self.signal_line = self.I(_get_macd_signal_line, self.data.Close, self.data.index, 12,26,9, name=\"signal_line\")\n",
    "#         self.histogram = self.I(_get_macd_hist, self.data.Close, self.data.index, 12,26,9, name=\"histogram\")\n",
    "#         self.rsi = self.I(_get_rsi, self.data.Close, self.data.index, 21, name=\"RSI\")\n",
    "\n",
    "#     def next(self):\n",
    "#         _close = self.data.Close[-1]\n",
    "#         _high = self.data.High[-1]\n",
    "#         _low = self.data.Low[-1]\n",
    "#         _open = self.data.Open[-1]\n",
    "\n",
    "#         price = (_close + _open + _high + _low) / 4\n",
    "\n",
    "#         main_line_value = self.main_line[-1]\n",
    "#         signal_line_value = self.signal_line[-1]\n",
    "#         hist_value = self.histogram[-1]\n",
    "#         hist_value_previous = self.histogram[-2]\n",
    "\n",
    "#         rsi_value = self.rsi[-1]\n",
    "\n",
    "#         if crossover(main_line_value, signal_line_value) and  rsi_value < 30:\n",
    "#             if self.position.is_long or not self.position:\n",
    "#                 self.buy()\n",
    "#             elif self.position.is_short:\n",
    "#                 self.position.close()\n",
    "#                 self.buy()\n",
    "#         elif crossover(signal_line_value, main_line_value) and rsi_value > 70:\n",
    "#             if self.position.is_short or not self.position:\n",
    "#                 self.sell()\n",
    "#             elif self.position.is_long:\n",
    "#                 self.position.close()\n",
    "#                 self.sell()\n",
    "        \n",
    "#         if hist_value < hist_value_previous and self.position.is_short:\n",
    "#             self.position.close()\n",
    "#         elif hist_value > hist_value_previous and self.position.is_long:\n",
    "#             self.position.close()\n",
    "\n"
   ]
  },
  {
   "cell_type": "code",
   "execution_count": 10,
   "metadata": {},
   "outputs": [],
   "source": [
    "# deposit = 100000\n",
    "# commission = 0.0004\n",
    "\n",
    "# bt_MR = Backtest(data, MR, cash=deposit, commission=commission)"
   ]
  },
  {
   "cell_type": "code",
   "execution_count": 11,
   "metadata": {},
   "outputs": [],
   "source": [
    "# bt_MR.run()"
   ]
  },
  {
   "cell_type": "code",
   "execution_count": 12,
   "metadata": {},
   "outputs": [],
   "source": [
    "# bt_MR.plot()"
   ]
  },
  {
   "cell_type": "code",
   "execution_count": 48,
   "metadata": {},
   "outputs": [],
   "source": [
    "class TrafficLight1(Strategy):\n",
    "    def init(self):\n",
    "        self.close = self.data.Close\n",
    "        self.high = self.data.High\n",
    "        self.low = self.data.Low\n",
    "        \n",
    "        # green -> yellow -> red\n",
    "        # red -> yellow -> green\n",
    "        self.green = self.I(_get_ema, self.data.Close, self.data.index, 6,name=\"EMA_6\", color=\"green\")\n",
    "        self.yellow = self.I(_get_ema, self.data.Close, self.data.index, 22, name=\"EMA_22\", color=\"yellow\")\n",
    "        self.red = self.I(_get_ema, self.data.Close, self.data.index, 127, name=\"EMA_127\", color=\"red\")\n",
    "        \n",
    "\n",
    "    def next(self):\n",
    "        current_time = self.data.index[-1]\n",
    "        price = self.data.Close[-1]\n",
    "        high = self.data.High[-1]\n",
    "        low = self.data.Low[-1]\n",
    "        red = self.red[-1]\n",
    "        yellow = self.yellow[-1]\n",
    "        green = self.green[-1]\n",
    "        if red > yellow and yellow > green:\n",
    "            if (high >= red or high >= yellow) and (not self.position.is_short):\n",
    "                self.sell(size=0.15, sl=price * 1.003, tp=price * 0.994)\n",
    "                # self.sell(size=0.15)\n",
    "        elif red < yellow and yellow < green:\n",
    "            if (low <= red or low <= yellow) and (not self.position.is_long):\n",
    "                self.buy(size=0.15, sl=price * 0.997, tp=price * 1.006)\n",
    "                # self.buy(size=0.15)\n",
    "        \n",
    "        for trade in self.trades:\n",
    "            if current_time - trade.entry_time > pd.Timedelta(minutes=1):\n",
    "                # if trade.is_long:\n",
    "                #     trade.sl = max(trade.sl, low)\n",
    "                # else:\n",
    "                #     trade.sl = min(trade.sl, high)\n",
    "                self.position.close()"
   ]
  },
  {
   "cell_type": "code",
   "execution_count": 40,
   "metadata": {},
   "outputs": [],
   "source": [
    "data[\"EMA_6\"] = _get_ema(data.Close, data.index, length=6)\n",
    "data[\"EMA_22\"] = _get_ema(data.Close, data.index, length=22)\n",
    "data[\"EMA_127\"] = _get_ema(data.Close, data.index, length=127)"
   ]
  },
  {
   "cell_type": "code",
   "execution_count": 43,
   "metadata": {},
   "outputs": [
    {
     "data": {
      "text/html": [
       "<div>\n",
       "<style scoped>\n",
       "    .dataframe tbody tr th:only-of-type {\n",
       "        vertical-align: middle;\n",
       "    }\n",
       "\n",
       "    .dataframe tbody tr th {\n",
       "        vertical-align: top;\n",
       "    }\n",
       "\n",
       "    .dataframe thead th {\n",
       "        text-align: right;\n",
       "    }\n",
       "</style>\n",
       "<table border=\"1\" class=\"dataframe\">\n",
       "  <thead>\n",
       "    <tr style=\"text-align: right;\">\n",
       "      <th></th>\n",
       "      <th>EMA_6</th>\n",
       "      <th>EMA_22</th>\n",
       "      <th>EMA_127</th>\n",
       "    </tr>\n",
       "  </thead>\n",
       "  <tbody>\n",
       "    <tr>\n",
       "      <th>count</th>\n",
       "      <td>7195.000000</td>\n",
       "      <td>7179.000000</td>\n",
       "      <td>7074.000000</td>\n",
       "    </tr>\n",
       "    <tr>\n",
       "      <th>mean</th>\n",
       "      <td>23580.008508</td>\n",
       "      <td>23579.675427</td>\n",
       "      <td>23577.180429</td>\n",
       "    </tr>\n",
       "    <tr>\n",
       "      <th>std</th>\n",
       "      <td>453.633336</td>\n",
       "      <td>452.913501</td>\n",
       "      <td>448.544645</td>\n",
       "    </tr>\n",
       "    <tr>\n",
       "      <th>min</th>\n",
       "      <td>22850.639091</td>\n",
       "      <td>22889.956942</td>\n",
       "      <td>22925.280256</td>\n",
       "    </tr>\n",
       "    <tr>\n",
       "      <th>25%</th>\n",
       "      <td>23149.469098</td>\n",
       "      <td>23150.973881</td>\n",
       "      <td>23154.324765</td>\n",
       "    </tr>\n",
       "    <tr>\n",
       "      <th>50%</th>\n",
       "      <td>23564.157610</td>\n",
       "      <td>23566.459257</td>\n",
       "      <td>23536.971260</td>\n",
       "    </tr>\n",
       "    <tr>\n",
       "      <th>75%</th>\n",
       "      <td>23952.576843</td>\n",
       "      <td>23955.982243</td>\n",
       "      <td>23953.793130</td>\n",
       "    </tr>\n",
       "    <tr>\n",
       "      <th>max</th>\n",
       "      <td>24570.383415</td>\n",
       "      <td>24543.483643</td>\n",
       "      <td>24468.483267</td>\n",
       "    </tr>\n",
       "  </tbody>\n",
       "</table>\n",
       "</div>"
      ],
      "text/plain": [
       "              EMA_6        EMA_22       EMA_127\n",
       "count   7195.000000   7179.000000   7074.000000\n",
       "mean   23580.008508  23579.675427  23577.180429\n",
       "std      453.633336    452.913501    448.544645\n",
       "min    22850.639091  22889.956942  22925.280256\n",
       "25%    23149.469098  23150.973881  23154.324765\n",
       "50%    23564.157610  23566.459257  23536.971260\n",
       "75%    23952.576843  23955.982243  23953.793130\n",
       "max    24570.383415  24543.483643  24468.483267"
      ]
     },
     "execution_count": 43,
     "metadata": {},
     "output_type": "execute_result"
    }
   ],
   "source": [
    "data[[\"EMA_6\", \"EMA_22\", \"EMA_127\"]].describe()"
   ]
  },
  {
   "cell_type": "code",
   "execution_count": 101,
   "metadata": {},
   "outputs": [],
   "source": [
    "class TrafficLight2(Strategy):\n",
    "    def init(self):\n",
    "        self.close = self.data.Close\n",
    "        self.high = self.data.High\n",
    "        self.low = self.data.Low\n",
    "        self.depth = 20\n",
    "        # green -> yellow -> red\n",
    "        # red -> yellow -> green\n",
    "        self.green = self.I(_get_ema, self.data.Close, self.data.index, 6,name=\"EMA_6\", color=\"green\")\n",
    "        self.yellow = self.I(_get_ema, self.data.Close, self.data.index, 22, name=\"EMA_22\", color=\"yellow\")\n",
    "        self.red = self.I(_get_ema, self.data.Close, self.data.index, 127, name=\"EMA_127\", color=\"red\")\n",
    "        self.not_first_short = False\n",
    "        self.not_first_long = False\n",
    "\n",
    "    def next(self):\n",
    "        current_time = self.data.index[-1]\n",
    "        price = self.data.Close[-1]\n",
    "        high = self.data.High[-1]\n",
    "        low = self.data.Low[-1]\n",
    "        red = self.red[-1]\n",
    "        yellow = self.yellow[-1]\n",
    "        green = self.green[-1]\n",
    "        # if red >= yellow + self.depth and yellow >= green + self.depth and not self.not_first_short:\n",
    "        if red >= yellow and yellow > green:\n",
    "            # if (high >= red or high >= yellow) and (not self.position.is_short):\n",
    "            #     self.sell(size=0.5, sl=price * 1.006, tp=price * 0.997)\n",
    "            if (high >= red) and (not self.position.is_short):\n",
    "                self.sell(size=0.15, sl=price*1.005, tp=price*0.99)\n",
    "                self.not_first_short = True\n",
    "                self.not_first_long = False\n",
    "                self.position.close()\n",
    "        # elif red + self.depth <= yellow and yellow + self.depth <= green and not self.not_first_long:\n",
    "        elif red < yellow and yellow < green:\n",
    "            # if (low <= red or low <= yellow) and (not self.position.is_long):\n",
    "            #     self.buy(size=0.5, sl=price * 0.997, tp=price * 1.006)\n",
    "            if (low <= red) and (not self.position.is_long):\n",
    "                self.position.close()\n",
    "                self.buy(size=0.15, sl=price * 0.995, tp=price * 1.015)\n",
    "                self.not_first_long = True\n",
    "                self.not_first_short = False\n",
    "        \n",
    "        for trade in self.trades:\n",
    "            if current_time - trade.entry_time > pd.Timedelta(minutes=2):\n",
    "                # if trade.is_long:\n",
    "                #     trade.sl = max(trade.sl, low)\n",
    "                # else:\n",
    "                #     trade.sl = min(trade.sl, high)\n",
    "                self.position.close()"
   ]
  },
  {
   "cell_type": "code",
   "execution_count": 102,
   "metadata": {},
   "outputs": [],
   "source": [
    "cash = 100000\n",
    "commission = .0004\n",
    "bt_random = Backtest(data, TrafficLight2, cash=cash, commission=commission, margin=0.2, trade_on_close=True)\n",
    "output = bt_random.run()"
   ]
  },
  {
   "cell_type": "code",
   "execution_count": 103,
   "metadata": {},
   "outputs": [
    {
     "data": {
      "text/plain": [
       "Start                     2023-02-22 06:08:00\n",
       "End                       2023-02-27 06:07:00\n",
       "Duration                      4 days 23:59:00\n",
       "Exposure Time [%]                    6.722222\n",
       "Equity Final [$]                 96286.543888\n",
       "Equity Peak [$]                 100215.627748\n",
       "Return [%]                          -3.713456\n",
       "Buy & Hold Return [%]               -2.963834\n",
       "Return (Ann.) [%]                  -84.400481\n",
       "Volatility (Ann.) [%]                1.564926\n",
       "Sharpe Ratio                              0.0\n",
       "Sortino Ratio                             0.0\n",
       "Calmar Ratio                              0.0\n",
       "Max. Drawdown [%]                   -3.993104\n",
       "Avg. Drawdown [%]                   -1.381341\n",
       "Max. Drawdown Duration        4 days 16:55:00\n",
       "Avg. Drawdown Duration        1 days 14:11:00\n",
       "# Trades                                  124\n",
       "Win Rate [%]                        25.806452\n",
       "Best Trade [%]                       0.346553\n",
       "Worst Trade [%]                     -0.540216\n",
       "Avg. Trade [%]                      -0.042687\n",
       "Max. Trade Duration           0 days 00:03:00\n",
       "Avg. Trade Duration           0 days 00:03:00\n",
       "Profit Factor                        0.281476\n",
       "Expectancy [%]                      -0.042626\n",
       "SQN                                 -4.209496\n",
       "_strategy                       TrafficLight2\n",
       "_equity_curve                             ...\n",
       "_trades                        Size  Entry...\n",
       "dtype: object"
      ]
     },
     "execution_count": 103,
     "metadata": {},
     "output_type": "execute_result"
    }
   ],
   "source": [
    "output"
   ]
  },
  {
   "cell_type": "code",
   "execution_count": 104,
   "metadata": {},
   "outputs": [
    {
     "data": {
      "text/html": [
       "<div>\n",
       "<style scoped>\n",
       "    .dataframe tbody tr th:only-of-type {\n",
       "        vertical-align: middle;\n",
       "    }\n",
       "\n",
       "    .dataframe tbody tr th {\n",
       "        vertical-align: top;\n",
       "    }\n",
       "\n",
       "    .dataframe thead th {\n",
       "        text-align: right;\n",
       "    }\n",
       "</style>\n",
       "<table border=\"1\" class=\"dataframe\">\n",
       "  <thead>\n",
       "    <tr style=\"text-align: right;\">\n",
       "      <th></th>\n",
       "      <th>Size</th>\n",
       "      <th>EntryBar</th>\n",
       "      <th>ExitBar</th>\n",
       "      <th>EntryPrice</th>\n",
       "      <th>ExitPrice</th>\n",
       "      <th>PnL</th>\n",
       "      <th>ReturnPct</th>\n",
       "      <th>EntryTime</th>\n",
       "      <th>ExitTime</th>\n",
       "      <th>Duration</th>\n",
       "    </tr>\n",
       "  </thead>\n",
       "  <tbody>\n",
       "    <tr>\n",
       "      <th>0</th>\n",
       "      <td>-3</td>\n",
       "      <td>134</td>\n",
       "      <td>137</td>\n",
       "      <td>24013.070928</td>\n",
       "      <td>24014.33</td>\n",
       "      <td>-3.777216</td>\n",
       "      <td>-0.000052</td>\n",
       "      <td>2023-02-22 08:22:00</td>\n",
       "      <td>2023-02-22 08:25:00</td>\n",
       "      <td>0 days 00:03:00</td>\n",
       "    </tr>\n",
       "    <tr>\n",
       "      <th>1</th>\n",
       "      <td>-3</td>\n",
       "      <td>139</td>\n",
       "      <td>142</td>\n",
       "      <td>23993.718672</td>\n",
       "      <td>23980.63</td>\n",
       "      <td>39.266016</td>\n",
       "      <td>0.000546</td>\n",
       "      <td>2023-02-22 08:27:00</td>\n",
       "      <td>2023-02-22 08:30:00</td>\n",
       "      <td>0 days 00:03:00</td>\n",
       "    </tr>\n",
       "    <tr>\n",
       "      <th>2</th>\n",
       "      <td>-3</td>\n",
       "      <td>335</td>\n",
       "      <td>338</td>\n",
       "      <td>24105.304020</td>\n",
       "      <td>24127.33</td>\n",
       "      <td>-66.077940</td>\n",
       "      <td>-0.000914</td>\n",
       "      <td>2023-02-22 11:43:00</td>\n",
       "      <td>2023-02-22 11:46:00</td>\n",
       "      <td>0 days 00:03:00</td>\n",
       "    </tr>\n",
       "    <tr>\n",
       "      <th>3</th>\n",
       "      <td>-3</td>\n",
       "      <td>410</td>\n",
       "      <td>413</td>\n",
       "      <td>24122.956956</td>\n",
       "      <td>24131.59</td>\n",
       "      <td>-25.899132</td>\n",
       "      <td>-0.000358</td>\n",
       "      <td>2023-02-22 12:58:00</td>\n",
       "      <td>2023-02-22 13:01:00</td>\n",
       "      <td>0 days 00:03:00</td>\n",
       "    </tr>\n",
       "    <tr>\n",
       "      <th>4</th>\n",
       "      <td>-3</td>\n",
       "      <td>422</td>\n",
       "      <td>425</td>\n",
       "      <td>24052.025340</td>\n",
       "      <td>23995.01</td>\n",
       "      <td>171.046020</td>\n",
       "      <td>0.002371</td>\n",
       "      <td>2023-02-22 13:10:00</td>\n",
       "      <td>2023-02-22 13:13:00</td>\n",
       "      <td>0 days 00:03:00</td>\n",
       "    </tr>\n",
       "    <tr>\n",
       "      <th>...</th>\n",
       "      <td>...</td>\n",
       "      <td>...</td>\n",
       "      <td>...</td>\n",
       "      <td>...</td>\n",
       "      <td>...</td>\n",
       "      <td>...</td>\n",
       "      <td>...</td>\n",
       "      <td>...</td>\n",
       "      <td>...</td>\n",
       "      <td>...</td>\n",
       "    </tr>\n",
       "    <tr>\n",
       "      <th>119</th>\n",
       "      <td>3</td>\n",
       "      <td>6793</td>\n",
       "      <td>6796</td>\n",
       "      <td>23523.065464</td>\n",
       "      <td>23515.73</td>\n",
       "      <td>-22.006392</td>\n",
       "      <td>-0.000312</td>\n",
       "      <td>2023-02-26 23:21:00</td>\n",
       "      <td>2023-02-26 23:24:00</td>\n",
       "      <td>0 days 00:03:00</td>\n",
       "    </tr>\n",
       "    <tr>\n",
       "      <th>120</th>\n",
       "      <td>3</td>\n",
       "      <td>6804</td>\n",
       "      <td>6807</td>\n",
       "      <td>23545.214320</td>\n",
       "      <td>23558.86</td>\n",
       "      <td>40.937040</td>\n",
       "      <td>0.000580</td>\n",
       "      <td>2023-02-26 23:32:00</td>\n",
       "      <td>2023-02-26 23:35:00</td>\n",
       "      <td>0 days 00:03:00</td>\n",
       "    </tr>\n",
       "    <tr>\n",
       "      <th>121</th>\n",
       "      <td>-3</td>\n",
       "      <td>6849</td>\n",
       "      <td>6852</td>\n",
       "      <td>23507.983044</td>\n",
       "      <td>23522.10</td>\n",
       "      <td>-42.350868</td>\n",
       "      <td>-0.000601</td>\n",
       "      <td>2023-02-27 00:17:00</td>\n",
       "      <td>2023-02-27 00:20:00</td>\n",
       "      <td>0 days 00:03:00</td>\n",
       "    </tr>\n",
       "    <tr>\n",
       "      <th>122</th>\n",
       "      <td>-3</td>\n",
       "      <td>6853</td>\n",
       "      <td>6856</td>\n",
       "      <td>23504.154576</td>\n",
       "      <td>23481.90</td>\n",
       "      <td>66.763728</td>\n",
       "      <td>0.000947</td>\n",
       "      <td>2023-02-27 00:21:00</td>\n",
       "      <td>2023-02-27 00:24:00</td>\n",
       "      <td>0 days 00:03:00</td>\n",
       "    </tr>\n",
       "    <tr>\n",
       "      <th>123</th>\n",
       "      <td>-3</td>\n",
       "      <td>6867</td>\n",
       "      <td>6870</td>\n",
       "      <td>23485.012236</td>\n",
       "      <td>23490.40</td>\n",
       "      <td>-16.163292</td>\n",
       "      <td>-0.000229</td>\n",
       "      <td>2023-02-27 00:35:00</td>\n",
       "      <td>2023-02-27 00:38:00</td>\n",
       "      <td>0 days 00:03:00</td>\n",
       "    </tr>\n",
       "  </tbody>\n",
       "</table>\n",
       "<p>124 rows × 10 columns</p>\n",
       "</div>"
      ],
      "text/plain": [
       "     Size  EntryBar  ExitBar    EntryPrice  ExitPrice         PnL  ReturnPct  \\\n",
       "0      -3       134      137  24013.070928   24014.33   -3.777216  -0.000052   \n",
       "1      -3       139      142  23993.718672   23980.63   39.266016   0.000546   \n",
       "2      -3       335      338  24105.304020   24127.33  -66.077940  -0.000914   \n",
       "3      -3       410      413  24122.956956   24131.59  -25.899132  -0.000358   \n",
       "4      -3       422      425  24052.025340   23995.01  171.046020   0.002371   \n",
       "..    ...       ...      ...           ...        ...         ...        ...   \n",
       "119     3      6793     6796  23523.065464   23515.73  -22.006392  -0.000312   \n",
       "120     3      6804     6807  23545.214320   23558.86   40.937040   0.000580   \n",
       "121    -3      6849     6852  23507.983044   23522.10  -42.350868  -0.000601   \n",
       "122    -3      6853     6856  23504.154576   23481.90   66.763728   0.000947   \n",
       "123    -3      6867     6870  23485.012236   23490.40  -16.163292  -0.000229   \n",
       "\n",
       "              EntryTime            ExitTime        Duration  \n",
       "0   2023-02-22 08:22:00 2023-02-22 08:25:00 0 days 00:03:00  \n",
       "1   2023-02-22 08:27:00 2023-02-22 08:30:00 0 days 00:03:00  \n",
       "2   2023-02-22 11:43:00 2023-02-22 11:46:00 0 days 00:03:00  \n",
       "3   2023-02-22 12:58:00 2023-02-22 13:01:00 0 days 00:03:00  \n",
       "4   2023-02-22 13:10:00 2023-02-22 13:13:00 0 days 00:03:00  \n",
       "..                  ...                 ...             ...  \n",
       "119 2023-02-26 23:21:00 2023-02-26 23:24:00 0 days 00:03:00  \n",
       "120 2023-02-26 23:32:00 2023-02-26 23:35:00 0 days 00:03:00  \n",
       "121 2023-02-27 00:17:00 2023-02-27 00:20:00 0 days 00:03:00  \n",
       "122 2023-02-27 00:21:00 2023-02-27 00:24:00 0 days 00:03:00  \n",
       "123 2023-02-27 00:35:00 2023-02-27 00:38:00 0 days 00:03:00  \n",
       "\n",
       "[124 rows x 10 columns]"
      ]
     },
     "execution_count": 104,
     "metadata": {},
     "output_type": "execute_result"
    }
   ],
   "source": [
    "output[\"_trades\"]"
   ]
  },
  {
   "cell_type": "code",
   "execution_count": 105,
   "metadata": {},
   "outputs": [
    {
     "data": {
      "text/html": [
       "<div style=\"display: table;\"><div style=\"display: table-row;\"><div style=\"display: table-cell;\"><b title=\"bokeh.models.layouts.Row\">Row</b>(</div><div style=\"display: table-cell;\">id&nbsp;=&nbsp;'16632', <span id=\"17246\" style=\"cursor: pointer;\">&hellip;)</span></div></div><div class=\"17245\" style=\"display: none;\"><div style=\"display: table-cell;\"></div><div style=\"display: table-cell;\">align&nbsp;=&nbsp;'start',</div></div><div class=\"17245\" style=\"display: none;\"><div style=\"display: table-cell;\"></div><div style=\"display: table-cell;\">aspect_ratio&nbsp;=&nbsp;None,</div></div><div class=\"17245\" style=\"display: none;\"><div style=\"display: table-cell;\"></div><div style=\"display: table-cell;\">background&nbsp;=&nbsp;None,</div></div><div class=\"17245\" style=\"display: none;\"><div style=\"display: table-cell;\"></div><div style=\"display: table-cell;\">children&nbsp;=&nbsp;[GridBox(id='16629', ...), ToolbarBox(id='16631', ...)],</div></div><div class=\"17245\" style=\"display: none;\"><div style=\"display: table-cell;\"></div><div style=\"display: table-cell;\">cols&nbsp;=&nbsp;'auto',</div></div><div class=\"17245\" style=\"display: none;\"><div style=\"display: table-cell;\"></div><div style=\"display: table-cell;\">css_classes&nbsp;=&nbsp;[],</div></div><div class=\"17245\" style=\"display: none;\"><div style=\"display: table-cell;\"></div><div style=\"display: table-cell;\">disabled&nbsp;=&nbsp;False,</div></div><div class=\"17245\" style=\"display: none;\"><div style=\"display: table-cell;\"></div><div style=\"display: table-cell;\">height&nbsp;=&nbsp;None,</div></div><div class=\"17245\" style=\"display: none;\"><div style=\"display: table-cell;\"></div><div style=\"display: table-cell;\">height_policy&nbsp;=&nbsp;'auto',</div></div><div class=\"17245\" style=\"display: none;\"><div style=\"display: table-cell;\"></div><div style=\"display: table-cell;\">js_event_callbacks&nbsp;=&nbsp;{},</div></div><div class=\"17245\" style=\"display: none;\"><div style=\"display: table-cell;\"></div><div style=\"display: table-cell;\">js_property_callbacks&nbsp;=&nbsp;{},</div></div><div class=\"17245\" style=\"display: none;\"><div style=\"display: table-cell;\"></div><div style=\"display: table-cell;\">margin&nbsp;=&nbsp;(0, 0, 0, 0),</div></div><div class=\"17245\" style=\"display: none;\"><div style=\"display: table-cell;\"></div><div style=\"display: table-cell;\">max_height&nbsp;=&nbsp;None,</div></div><div class=\"17245\" style=\"display: none;\"><div style=\"display: table-cell;\"></div><div style=\"display: table-cell;\">max_width&nbsp;=&nbsp;None,</div></div><div class=\"17245\" style=\"display: none;\"><div style=\"display: table-cell;\"></div><div style=\"display: table-cell;\">min_height&nbsp;=&nbsp;None,</div></div><div class=\"17245\" style=\"display: none;\"><div style=\"display: table-cell;\"></div><div style=\"display: table-cell;\">min_width&nbsp;=&nbsp;None,</div></div><div class=\"17245\" style=\"display: none;\"><div style=\"display: table-cell;\"></div><div style=\"display: table-cell;\">name&nbsp;=&nbsp;None,</div></div><div class=\"17245\" style=\"display: none;\"><div style=\"display: table-cell;\"></div><div style=\"display: table-cell;\">sizing_mode&nbsp;=&nbsp;'stretch_width',</div></div><div class=\"17245\" style=\"display: none;\"><div style=\"display: table-cell;\"></div><div style=\"display: table-cell;\">spacing&nbsp;=&nbsp;0,</div></div><div class=\"17245\" style=\"display: none;\"><div style=\"display: table-cell;\"></div><div style=\"display: table-cell;\">subscribed_events&nbsp;=&nbsp;[],</div></div><div class=\"17245\" style=\"display: none;\"><div style=\"display: table-cell;\"></div><div style=\"display: table-cell;\">syncable&nbsp;=&nbsp;True,</div></div><div class=\"17245\" style=\"display: none;\"><div style=\"display: table-cell;\"></div><div style=\"display: table-cell;\">tags&nbsp;=&nbsp;[],</div></div><div class=\"17245\" style=\"display: none;\"><div style=\"display: table-cell;\"></div><div style=\"display: table-cell;\">visible&nbsp;=&nbsp;True,</div></div><div class=\"17245\" style=\"display: none;\"><div style=\"display: table-cell;\"></div><div style=\"display: table-cell;\">width&nbsp;=&nbsp;None,</div></div><div class=\"17245\" style=\"display: none;\"><div style=\"display: table-cell;\"></div><div style=\"display: table-cell;\">width_policy&nbsp;=&nbsp;'auto')</div></div></div>\n",
       "<script>\n",
       "(function() {\n",
       "  let expanded = false;\n",
       "  const ellipsis = document.getElementById(\"17246\");\n",
       "  ellipsis.addEventListener(\"click\", function() {\n",
       "    const rows = document.getElementsByClassName(\"17245\");\n",
       "    for (let i = 0; i < rows.length; i++) {\n",
       "      const el = rows[i];\n",
       "      el.style.display = expanded ? \"none\" : \"table-row\";\n",
       "    }\n",
       "    ellipsis.innerHTML = expanded ? \"&hellip;)\" : \"&lsaquo;&lsaquo;&lsaquo;\";\n",
       "    expanded = !expanded;\n",
       "  });\n",
       "})();\n",
       "</script>\n"
      ],
      "text/plain": [
       "Row(id='16632', ...)"
      ]
     },
     "execution_count": 105,
     "metadata": {},
     "output_type": "execute_result"
    }
   ],
   "source": [
    "bt_random.plot()"
   ]
  },
  {
   "attachments": {},
   "cell_type": "markdown",
   "metadata": {},
   "source": [
    "## Random classifier"
   ]
  },
  {
   "cell_type": "code",
   "execution_count": 7,
   "metadata": {},
   "outputs": [],
   "source": [
    "cash = 100000\n",
    "commission = .0001\n",
    "bt_random = Backtest(data, Random, cash=cash, commission=commission)\n",
    "output = bt_random.run()"
   ]
  },
  {
   "cell_type": "code",
   "execution_count": 8,
   "metadata": {},
   "outputs": [
    {
     "data": {
      "text/plain": [
       "Start                     2023-02-22 06:08:00\n",
       "End                       2023-02-27 06:07:00\n",
       "Duration                      4 days 23:59:00\n",
       "Exposure Time [%]                   77.791667\n",
       "Equity Final [$]                 92546.902942\n",
       "Equity Peak [$]                      100000.0\n",
       "Return [%]                          -7.453097\n",
       "Buy & Hold Return [%]               -2.963834\n",
       "Return (Ann.) [%]                  -98.126239\n",
       "Volatility (Ann.) [%]                0.408417\n",
       "Sharpe Ratio                              0.0\n",
       "Sortino Ratio                             0.0\n",
       "Calmar Ratio                              0.0\n",
       "Max. Drawdown [%]                   -7.490269\n",
       "Avg. Drawdown [%]                   -7.490269\n",
       "Max. Drawdown Duration        4 days 23:58:00\n",
       "Avg. Drawdown Duration        4 days 23:58:00\n",
       "# Trades                                 2759\n",
       "Win Rate [%]                        41.536789\n",
       "Best Trade [%]                       0.543709\n",
       "Worst Trade [%]                     -1.089354\n",
       "Avg. Trade [%]                      -0.011421\n",
       "Max. Trade Duration           0 days 00:10:00\n",
       "Avg. Trade Duration           0 days 00:03:00\n",
       "Profit Factor                        0.693138\n",
       "Expectancy [%]                      -0.011376\n",
       "SQN                                  -6.32427\n",
       "_strategy                              Random\n",
       "_equity_curve                             ...\n",
       "_trades                         Size  Entr...\n",
       "dtype: object"
      ]
     },
     "execution_count": 8,
     "metadata": {},
     "output_type": "execute_result"
    }
   ],
   "source": [
    "output"
   ]
  },
  {
   "cell_type": "code",
   "execution_count": 9,
   "metadata": {},
   "outputs": [
    {
     "data": {
      "text/html": [
       "<div style=\"display: table;\"><div style=\"display: table-row;\"><div style=\"display: table-cell;\"><b title=\"bokeh.models.layouts.Row\">Row</b>(</div><div style=\"display: table-cell;\">id&nbsp;=&nbsp;'1475', <span id=\"2206\" style=\"cursor: pointer;\">&hellip;)</span></div></div><div class=\"2205\" style=\"display: none;\"><div style=\"display: table-cell;\"></div><div style=\"display: table-cell;\">align&nbsp;=&nbsp;'start',</div></div><div class=\"2205\" style=\"display: none;\"><div style=\"display: table-cell;\"></div><div style=\"display: table-cell;\">aspect_ratio&nbsp;=&nbsp;None,</div></div><div class=\"2205\" style=\"display: none;\"><div style=\"display: table-cell;\"></div><div style=\"display: table-cell;\">background&nbsp;=&nbsp;None,</div></div><div class=\"2205\" style=\"display: none;\"><div style=\"display: table-cell;\"></div><div style=\"display: table-cell;\">children&nbsp;=&nbsp;[GridBox(id='1472', ...), ToolbarBox(id='1474', ...)],</div></div><div class=\"2205\" style=\"display: none;\"><div style=\"display: table-cell;\"></div><div style=\"display: table-cell;\">cols&nbsp;=&nbsp;'auto',</div></div><div class=\"2205\" style=\"display: none;\"><div style=\"display: table-cell;\"></div><div style=\"display: table-cell;\">css_classes&nbsp;=&nbsp;[],</div></div><div class=\"2205\" style=\"display: none;\"><div style=\"display: table-cell;\"></div><div style=\"display: table-cell;\">disabled&nbsp;=&nbsp;False,</div></div><div class=\"2205\" style=\"display: none;\"><div style=\"display: table-cell;\"></div><div style=\"display: table-cell;\">height&nbsp;=&nbsp;None,</div></div><div class=\"2205\" style=\"display: none;\"><div style=\"display: table-cell;\"></div><div style=\"display: table-cell;\">height_policy&nbsp;=&nbsp;'auto',</div></div><div class=\"2205\" style=\"display: none;\"><div style=\"display: table-cell;\"></div><div style=\"display: table-cell;\">js_event_callbacks&nbsp;=&nbsp;{},</div></div><div class=\"2205\" style=\"display: none;\"><div style=\"display: table-cell;\"></div><div style=\"display: table-cell;\">js_property_callbacks&nbsp;=&nbsp;{},</div></div><div class=\"2205\" style=\"display: none;\"><div style=\"display: table-cell;\"></div><div style=\"display: table-cell;\">margin&nbsp;=&nbsp;(0, 0, 0, 0),</div></div><div class=\"2205\" style=\"display: none;\"><div style=\"display: table-cell;\"></div><div style=\"display: table-cell;\">max_height&nbsp;=&nbsp;None,</div></div><div class=\"2205\" style=\"display: none;\"><div style=\"display: table-cell;\"></div><div style=\"display: table-cell;\">max_width&nbsp;=&nbsp;None,</div></div><div class=\"2205\" style=\"display: none;\"><div style=\"display: table-cell;\"></div><div style=\"display: table-cell;\">min_height&nbsp;=&nbsp;None,</div></div><div class=\"2205\" style=\"display: none;\"><div style=\"display: table-cell;\"></div><div style=\"display: table-cell;\">min_width&nbsp;=&nbsp;None,</div></div><div class=\"2205\" style=\"display: none;\"><div style=\"display: table-cell;\"></div><div style=\"display: table-cell;\">name&nbsp;=&nbsp;None,</div></div><div class=\"2205\" style=\"display: none;\"><div style=\"display: table-cell;\"></div><div style=\"display: table-cell;\">sizing_mode&nbsp;=&nbsp;'stretch_width',</div></div><div class=\"2205\" style=\"display: none;\"><div style=\"display: table-cell;\"></div><div style=\"display: table-cell;\">spacing&nbsp;=&nbsp;0,</div></div><div class=\"2205\" style=\"display: none;\"><div style=\"display: table-cell;\"></div><div style=\"display: table-cell;\">subscribed_events&nbsp;=&nbsp;[],</div></div><div class=\"2205\" style=\"display: none;\"><div style=\"display: table-cell;\"></div><div style=\"display: table-cell;\">syncable&nbsp;=&nbsp;True,</div></div><div class=\"2205\" style=\"display: none;\"><div style=\"display: table-cell;\"></div><div style=\"display: table-cell;\">tags&nbsp;=&nbsp;[],</div></div><div class=\"2205\" style=\"display: none;\"><div style=\"display: table-cell;\"></div><div style=\"display: table-cell;\">visible&nbsp;=&nbsp;True,</div></div><div class=\"2205\" style=\"display: none;\"><div style=\"display: table-cell;\"></div><div style=\"display: table-cell;\">width&nbsp;=&nbsp;None,</div></div><div class=\"2205\" style=\"display: none;\"><div style=\"display: table-cell;\"></div><div style=\"display: table-cell;\">width_policy&nbsp;=&nbsp;'auto')</div></div></div>\n",
       "<script>\n",
       "(function() {\n",
       "  let expanded = false;\n",
       "  const ellipsis = document.getElementById(\"2206\");\n",
       "  ellipsis.addEventListener(\"click\", function() {\n",
       "    const rows = document.getElementsByClassName(\"2205\");\n",
       "    for (let i = 0; i < rows.length; i++) {\n",
       "      const el = rows[i];\n",
       "      el.style.display = expanded ? \"none\" : \"table-row\";\n",
       "    }\n",
       "    ellipsis.innerHTML = expanded ? \"&hellip;)\" : \"&lsaquo;&lsaquo;&lsaquo;\";\n",
       "    expanded = !expanded;\n",
       "  });\n",
       "})();\n",
       "</script>\n"
      ],
      "text/plain": [
       "Row(id='1475', ...)"
      ]
     },
     "execution_count": 9,
     "metadata": {},
     "output_type": "execute_result"
    }
   ],
   "source": [
    "bt_random.plot()"
   ]
  },
  {
   "attachments": {},
   "cell_type": "markdown",
   "metadata": {},
   "source": [
    "## Binary LightCoin strategy"
   ]
  },
  {
   "cell_type": "code",
   "execution_count": 5,
   "metadata": {},
   "outputs": [],
   "source": [
    "binary_model_path_txt = '/Users/arsenchik/Desktop/dipploma/machine_learning_in_hft/algotrading/model_training/models/binary_model_1_min.txt'\n",
    "\n",
    "binary_model = lgb.Booster(model_file=binary_model_path_txt)\n",
    "\n",
    "features = EXPERIMENT_ID_TO_FEATURES[24]\n",
    "test_data = Data(data)\n",
    "test_data.create_features()\n",
    "test_data.df['predicted_proba'] = binary_model.predict(test_data.df[features])"
   ]
  },
  {
   "cell_type": "code",
   "execution_count": 6,
   "metadata": {},
   "outputs": [],
   "source": [
    "cash = 100000\n",
    "commission = .0001\n",
    "\n",
    "bt = Backtest(test_data.df, Binary, cash=cash, commission=commission)\n",
    "output = bt.run()\n",
    "# stats = bt.optimize(price_delta=[0.002, 0.004, 0.001],\n",
    "#                   maximize='Sharpe Ratio')"
   ]
  },
  {
   "cell_type": "code",
   "execution_count": 7,
   "metadata": {},
   "outputs": [
    {
     "data": {
      "text/plain": [
       "Start                     2023-02-22 06:08:00\n",
       "End                       2023-02-27 06:07:00\n",
       "Duration                      4 days 23:59:00\n",
       "Exposure Time [%]                   83.861111\n",
       "Equity Final [$]                100636.898432\n",
       "Equity Peak [$]                 101267.404378\n",
       "Return [%]                           0.636898\n",
       "Buy & Hold Return [%]               -2.963834\n",
       "Return (Ann.) [%]                   54.337715\n",
       "Volatility (Ann.) [%]               12.011848\n",
       "Sharpe Ratio                         4.523676\n",
       "Sortino Ratio                       18.265706\n",
       "Calmar Ratio                        54.923605\n",
       "Max. Drawdown [%]                   -0.989333\n",
       "Avg. Drawdown [%]                   -0.130465\n",
       "Max. Drawdown Duration        1 days 22:31:00\n",
       "Avg. Drawdown Duration        0 days 04:17:00\n",
       "# Trades                                   27\n",
       "Win Rate [%]                        55.555556\n",
       "Best Trade [%]                       3.546073\n",
       "Worst Trade [%]                     -1.336301\n",
       "Avg. Trade [%]                       0.093578\n",
       "Max. Trade Duration           1 days 15:40:00\n",
       "Avg. Trade Duration           0 days 03:43:00\n",
       "Profit Factor                        1.952061\n",
       "Expectancy [%]                        0.09635\n",
       "SQN                                  0.673667\n",
       "_strategy                              Binary\n",
       "_equity_curve                             ...\n",
       "_trades                       Size  EntryB...\n",
       "dtype: object"
      ]
     },
     "execution_count": 7,
     "metadata": {},
     "output_type": "execute_result"
    }
   ],
   "source": [
    "output"
   ]
  },
  {
   "cell_type": "code",
   "execution_count": 8,
   "metadata": {},
   "outputs": [
    {
     "data": {
      "text/html": [
       "<div style=\"display: table;\"><div style=\"display: table-row;\"><div style=\"display: table-cell;\"><b title=\"bokeh.models.layouts.Row\">Row</b>(</div><div style=\"display: table-cell;\">id&nbsp;=&nbsp;'1474', <span id=\"2205\" style=\"cursor: pointer;\">&hellip;)</span></div></div><div class=\"2204\" style=\"display: none;\"><div style=\"display: table-cell;\"></div><div style=\"display: table-cell;\">align&nbsp;=&nbsp;'start',</div></div><div class=\"2204\" style=\"display: none;\"><div style=\"display: table-cell;\"></div><div style=\"display: table-cell;\">aspect_ratio&nbsp;=&nbsp;None,</div></div><div class=\"2204\" style=\"display: none;\"><div style=\"display: table-cell;\"></div><div style=\"display: table-cell;\">background&nbsp;=&nbsp;None,</div></div><div class=\"2204\" style=\"display: none;\"><div style=\"display: table-cell;\"></div><div style=\"display: table-cell;\">children&nbsp;=&nbsp;[GridBox(id='1471', ...), ToolbarBox(id='1473', ...)],</div></div><div class=\"2204\" style=\"display: none;\"><div style=\"display: table-cell;\"></div><div style=\"display: table-cell;\">cols&nbsp;=&nbsp;'auto',</div></div><div class=\"2204\" style=\"display: none;\"><div style=\"display: table-cell;\"></div><div style=\"display: table-cell;\">css_classes&nbsp;=&nbsp;[],</div></div><div class=\"2204\" style=\"display: none;\"><div style=\"display: table-cell;\"></div><div style=\"display: table-cell;\">disabled&nbsp;=&nbsp;False,</div></div><div class=\"2204\" style=\"display: none;\"><div style=\"display: table-cell;\"></div><div style=\"display: table-cell;\">height&nbsp;=&nbsp;None,</div></div><div class=\"2204\" style=\"display: none;\"><div style=\"display: table-cell;\"></div><div style=\"display: table-cell;\">height_policy&nbsp;=&nbsp;'auto',</div></div><div class=\"2204\" style=\"display: none;\"><div style=\"display: table-cell;\"></div><div style=\"display: table-cell;\">js_event_callbacks&nbsp;=&nbsp;{},</div></div><div class=\"2204\" style=\"display: none;\"><div style=\"display: table-cell;\"></div><div style=\"display: table-cell;\">js_property_callbacks&nbsp;=&nbsp;{},</div></div><div class=\"2204\" style=\"display: none;\"><div style=\"display: table-cell;\"></div><div style=\"display: table-cell;\">margin&nbsp;=&nbsp;(0, 0, 0, 0),</div></div><div class=\"2204\" style=\"display: none;\"><div style=\"display: table-cell;\"></div><div style=\"display: table-cell;\">max_height&nbsp;=&nbsp;None,</div></div><div class=\"2204\" style=\"display: none;\"><div style=\"display: table-cell;\"></div><div style=\"display: table-cell;\">max_width&nbsp;=&nbsp;None,</div></div><div class=\"2204\" style=\"display: none;\"><div style=\"display: table-cell;\"></div><div style=\"display: table-cell;\">min_height&nbsp;=&nbsp;None,</div></div><div class=\"2204\" style=\"display: none;\"><div style=\"display: table-cell;\"></div><div style=\"display: table-cell;\">min_width&nbsp;=&nbsp;None,</div></div><div class=\"2204\" style=\"display: none;\"><div style=\"display: table-cell;\"></div><div style=\"display: table-cell;\">name&nbsp;=&nbsp;None,</div></div><div class=\"2204\" style=\"display: none;\"><div style=\"display: table-cell;\"></div><div style=\"display: table-cell;\">sizing_mode&nbsp;=&nbsp;'stretch_width',</div></div><div class=\"2204\" style=\"display: none;\"><div style=\"display: table-cell;\"></div><div style=\"display: table-cell;\">spacing&nbsp;=&nbsp;0,</div></div><div class=\"2204\" style=\"display: none;\"><div style=\"display: table-cell;\"></div><div style=\"display: table-cell;\">subscribed_events&nbsp;=&nbsp;[],</div></div><div class=\"2204\" style=\"display: none;\"><div style=\"display: table-cell;\"></div><div style=\"display: table-cell;\">syncable&nbsp;=&nbsp;True,</div></div><div class=\"2204\" style=\"display: none;\"><div style=\"display: table-cell;\"></div><div style=\"display: table-cell;\">tags&nbsp;=&nbsp;[],</div></div><div class=\"2204\" style=\"display: none;\"><div style=\"display: table-cell;\"></div><div style=\"display: table-cell;\">visible&nbsp;=&nbsp;True,</div></div><div class=\"2204\" style=\"display: none;\"><div style=\"display: table-cell;\"></div><div style=\"display: table-cell;\">width&nbsp;=&nbsp;None,</div></div><div class=\"2204\" style=\"display: none;\"><div style=\"display: table-cell;\"></div><div style=\"display: table-cell;\">width_policy&nbsp;=&nbsp;'auto')</div></div></div>\n",
       "<script>\n",
       "(function() {\n",
       "  let expanded = false;\n",
       "  const ellipsis = document.getElementById(\"2205\");\n",
       "  ellipsis.addEventListener(\"click\", function() {\n",
       "    const rows = document.getElementsByClassName(\"2204\");\n",
       "    for (let i = 0; i < rows.length; i++) {\n",
       "      const el = rows[i];\n",
       "      el.style.display = expanded ? \"none\" : \"table-row\";\n",
       "    }\n",
       "    ellipsis.innerHTML = expanded ? \"&hellip;)\" : \"&lsaquo;&lsaquo;&lsaquo;\";\n",
       "    expanded = !expanded;\n",
       "  });\n",
       "})();\n",
       "</script>\n"
      ],
      "text/plain": [
       "Row(id='1474', ...)"
      ]
     },
     "execution_count": 8,
     "metadata": {},
     "output_type": "execute_result"
    }
   ],
   "source": [
    "bt.plot()"
   ]
  },
  {
   "attachments": {},
   "cell_type": "markdown",
   "metadata": {},
   "source": [
    "## Multiple LigthCoin strategy"
   ]
  },
  {
   "cell_type": "code",
   "execution_count": 5,
   "metadata": {},
   "outputs": [],
   "source": [
    "cash = 100000\n",
    "commission = .0001\n",
    "\n",
    "bt = Backtest(data, Multiple, cash=cash, commission=commission)\n",
    "output = bt.run()\n",
    "# stats = bt.optimize(price_delta=[0.002, 0.004, 0.001],\n",
    "#                   maximize='Sharpe Ratio')"
   ]
  },
  {
   "cell_type": "code",
   "execution_count": 6,
   "metadata": {},
   "outputs": [
    {
     "data": {
      "text/plain": [
       "Start                     2023-02-22 06:08:00\n",
       "End                       2023-02-27 06:07:00\n",
       "Duration                      4 days 23:59:00\n",
       "Exposure Time [%]                   32.083333\n",
       "Equity Final [$]                100519.904699\n",
       "Equity Peak [$]                 100701.760357\n",
       "Return [%]                           0.519905\n",
       "Buy & Hold Return [%]               -2.963834\n",
       "Return (Ann.) [%]                   30.263239\n",
       "Volatility (Ann.) [%]               10.201341\n",
       "Sharpe Ratio                         2.966594\n",
       "Sortino Ratio                        11.09004\n",
       "Calmar Ratio                        37.399474\n",
       "Max. Drawdown [%]                   -0.809189\n",
       "Avg. Drawdown [%]                   -0.156033\n",
       "Max. Drawdown Duration        2 days 14:03:00\n",
       "Avg. Drawdown Duration        0 days 07:58:00\n",
       "# Trades                                   28\n",
       "Win Rate [%]                        35.714286\n",
       "Best Trade [%]                       2.769027\n",
       "Worst Trade [%]                     -0.304868\n",
       "Avg. Trade [%]                       0.076798\n",
       "Max. Trade Duration           0 days 22:29:00\n",
       "Avg. Trade Duration           0 days 01:22:00\n",
       "Profit Factor                        2.642253\n",
       "Expectancy [%]                       0.078179\n",
       "SQN                                  0.765024\n",
       "_strategy                            Multiple\n",
       "_equity_curve                             ...\n",
       "_trades                       Size  EntryB...\n",
       "dtype: object"
      ]
     },
     "execution_count": 6,
     "metadata": {},
     "output_type": "execute_result"
    }
   ],
   "source": [
    "output"
   ]
  },
  {
   "cell_type": "code",
   "execution_count": 7,
   "metadata": {},
   "outputs": [
    {
     "data": {
      "text/html": [
       "<div style=\"display: table;\"><div style=\"display: table-row;\"><div style=\"display: table-cell;\"><b title=\"bokeh.models.layouts.Row\">Row</b>(</div><div style=\"display: table-cell;\">id&nbsp;=&nbsp;'1475', <span id=\"2206\" style=\"cursor: pointer;\">&hellip;)</span></div></div><div class=\"2205\" style=\"display: none;\"><div style=\"display: table-cell;\"></div><div style=\"display: table-cell;\">align&nbsp;=&nbsp;'start',</div></div><div class=\"2205\" style=\"display: none;\"><div style=\"display: table-cell;\"></div><div style=\"display: table-cell;\">aspect_ratio&nbsp;=&nbsp;None,</div></div><div class=\"2205\" style=\"display: none;\"><div style=\"display: table-cell;\"></div><div style=\"display: table-cell;\">background&nbsp;=&nbsp;None,</div></div><div class=\"2205\" style=\"display: none;\"><div style=\"display: table-cell;\"></div><div style=\"display: table-cell;\">children&nbsp;=&nbsp;[GridBox(id='1472', ...), ToolbarBox(id='1474', ...)],</div></div><div class=\"2205\" style=\"display: none;\"><div style=\"display: table-cell;\"></div><div style=\"display: table-cell;\">cols&nbsp;=&nbsp;'auto',</div></div><div class=\"2205\" style=\"display: none;\"><div style=\"display: table-cell;\"></div><div style=\"display: table-cell;\">css_classes&nbsp;=&nbsp;[],</div></div><div class=\"2205\" style=\"display: none;\"><div style=\"display: table-cell;\"></div><div style=\"display: table-cell;\">disabled&nbsp;=&nbsp;False,</div></div><div class=\"2205\" style=\"display: none;\"><div style=\"display: table-cell;\"></div><div style=\"display: table-cell;\">height&nbsp;=&nbsp;None,</div></div><div class=\"2205\" style=\"display: none;\"><div style=\"display: table-cell;\"></div><div style=\"display: table-cell;\">height_policy&nbsp;=&nbsp;'auto',</div></div><div class=\"2205\" style=\"display: none;\"><div style=\"display: table-cell;\"></div><div style=\"display: table-cell;\">js_event_callbacks&nbsp;=&nbsp;{},</div></div><div class=\"2205\" style=\"display: none;\"><div style=\"display: table-cell;\"></div><div style=\"display: table-cell;\">js_property_callbacks&nbsp;=&nbsp;{},</div></div><div class=\"2205\" style=\"display: none;\"><div style=\"display: table-cell;\"></div><div style=\"display: table-cell;\">margin&nbsp;=&nbsp;(0, 0, 0, 0),</div></div><div class=\"2205\" style=\"display: none;\"><div style=\"display: table-cell;\"></div><div style=\"display: table-cell;\">max_height&nbsp;=&nbsp;None,</div></div><div class=\"2205\" style=\"display: none;\"><div style=\"display: table-cell;\"></div><div style=\"display: table-cell;\">max_width&nbsp;=&nbsp;None,</div></div><div class=\"2205\" style=\"display: none;\"><div style=\"display: table-cell;\"></div><div style=\"display: table-cell;\">min_height&nbsp;=&nbsp;None,</div></div><div class=\"2205\" style=\"display: none;\"><div style=\"display: table-cell;\"></div><div style=\"display: table-cell;\">min_width&nbsp;=&nbsp;None,</div></div><div class=\"2205\" style=\"display: none;\"><div style=\"display: table-cell;\"></div><div style=\"display: table-cell;\">name&nbsp;=&nbsp;None,</div></div><div class=\"2205\" style=\"display: none;\"><div style=\"display: table-cell;\"></div><div style=\"display: table-cell;\">sizing_mode&nbsp;=&nbsp;'stretch_width',</div></div><div class=\"2205\" style=\"display: none;\"><div style=\"display: table-cell;\"></div><div style=\"display: table-cell;\">spacing&nbsp;=&nbsp;0,</div></div><div class=\"2205\" style=\"display: none;\"><div style=\"display: table-cell;\"></div><div style=\"display: table-cell;\">subscribed_events&nbsp;=&nbsp;[],</div></div><div class=\"2205\" style=\"display: none;\"><div style=\"display: table-cell;\"></div><div style=\"display: table-cell;\">syncable&nbsp;=&nbsp;True,</div></div><div class=\"2205\" style=\"display: none;\"><div style=\"display: table-cell;\"></div><div style=\"display: table-cell;\">tags&nbsp;=&nbsp;[],</div></div><div class=\"2205\" style=\"display: none;\"><div style=\"display: table-cell;\"></div><div style=\"display: table-cell;\">visible&nbsp;=&nbsp;True,</div></div><div class=\"2205\" style=\"display: none;\"><div style=\"display: table-cell;\"></div><div style=\"display: table-cell;\">width&nbsp;=&nbsp;None,</div></div><div class=\"2205\" style=\"display: none;\"><div style=\"display: table-cell;\"></div><div style=\"display: table-cell;\">width_policy&nbsp;=&nbsp;'auto')</div></div></div>\n",
       "<script>\n",
       "(function() {\n",
       "  let expanded = false;\n",
       "  const ellipsis = document.getElementById(\"2206\");\n",
       "  ellipsis.addEventListener(\"click\", function() {\n",
       "    const rows = document.getElementsByClassName(\"2205\");\n",
       "    for (let i = 0; i < rows.length; i++) {\n",
       "      const el = rows[i];\n",
       "      el.style.display = expanded ? \"none\" : \"table-row\";\n",
       "    }\n",
       "    ellipsis.innerHTML = expanded ? \"&hellip;)\" : \"&lsaquo;&lsaquo;&lsaquo;\";\n",
       "    expanded = !expanded;\n",
       "  });\n",
       "})();\n",
       "</script>\n"
      ],
      "text/plain": [
       "Row(id='1475', ...)"
      ]
     },
     "execution_count": 7,
     "metadata": {},
     "output_type": "execute_result"
    }
   ],
   "source": [
    "bt.plot()"
   ]
  },
  {
   "cell_type": "code",
   "execution_count": 5,
   "metadata": {},
   "outputs": [],
   "source": [
    "cash = 100000\n",
    "commission = .0001\n",
    "bt = Backtest(data, Binary, cash=cash, commission=commission)\n",
    "output = bt.run()"
   ]
  },
  {
   "cell_type": "code",
   "execution_count": 6,
   "metadata": {},
   "outputs": [
    {
     "data": {
      "text/plain": [
       "Start                     2023-02-22 06:08:00\n",
       "End                       2023-02-27 06:07:00\n",
       "Duration                      4 days 23:59:00\n",
       "Exposure Time [%]                    0.097222\n",
       "Equity Final [$]                100007.827219\n",
       "Equity Peak [$]                 100007.827219\n",
       "Return [%]                           0.007827\n",
       "Buy & Hold Return [%]               -2.963834\n",
       "Return (Ann.) [%]                         0.0\n",
       "Volatility (Ann.) [%]                     0.0\n",
       "Sharpe Ratio                              NaN\n",
       "Sortino Ratio                             NaN\n",
       "Calmar Ratio                              0.0\n",
       "Max. Drawdown [%]                   -0.018607\n",
       "Avg. Drawdown [%]                   -0.018607\n",
       "Max. Drawdown Duration        0 days 00:08:00\n",
       "Avg. Drawdown Duration        0 days 00:08:00\n",
       "# Trades                                    7\n",
       "Win Rate [%]                        71.428571\n",
       "Best Trade [%]                       0.025829\n",
       "Worst Trade [%]                     -0.040295\n",
       "Avg. Trade [%]                       0.004636\n",
       "Max. Trade Duration           0 days 00:00:00\n",
       "Avg. Trade Duration           0 days 00:00:00\n",
       "Profit Factor                        1.420344\n",
       "Expectancy [%]                        0.00464\n",
       "SQN                                  0.414093\n",
       "_strategy                              Binary\n",
       "_equity_curve                             ...\n",
       "_trades                      Size  EntryBa...\n",
       "dtype: object"
      ]
     },
     "execution_count": 6,
     "metadata": {},
     "output_type": "execute_result"
    }
   ],
   "source": [
    "output"
   ]
  },
  {
   "cell_type": "code",
   "execution_count": 7,
   "metadata": {},
   "outputs": [
    {
     "data": {
      "text/html": [
       "<div style=\"display: table;\"><div style=\"display: table-row;\"><div style=\"display: table-cell;\"><b title=\"bokeh.models.layouts.Row\">Row</b>(</div><div style=\"display: table-cell;\">id&nbsp;=&nbsp;'1474', <span id=\"2205\" style=\"cursor: pointer;\">&hellip;)</span></div></div><div class=\"2204\" style=\"display: none;\"><div style=\"display: table-cell;\"></div><div style=\"display: table-cell;\">align&nbsp;=&nbsp;'start',</div></div><div class=\"2204\" style=\"display: none;\"><div style=\"display: table-cell;\"></div><div style=\"display: table-cell;\">aspect_ratio&nbsp;=&nbsp;None,</div></div><div class=\"2204\" style=\"display: none;\"><div style=\"display: table-cell;\"></div><div style=\"display: table-cell;\">background&nbsp;=&nbsp;None,</div></div><div class=\"2204\" style=\"display: none;\"><div style=\"display: table-cell;\"></div><div style=\"display: table-cell;\">children&nbsp;=&nbsp;[GridBox(id='1471', ...), ToolbarBox(id='1473', ...)],</div></div><div class=\"2204\" style=\"display: none;\"><div style=\"display: table-cell;\"></div><div style=\"display: table-cell;\">cols&nbsp;=&nbsp;'auto',</div></div><div class=\"2204\" style=\"display: none;\"><div style=\"display: table-cell;\"></div><div style=\"display: table-cell;\">css_classes&nbsp;=&nbsp;[],</div></div><div class=\"2204\" style=\"display: none;\"><div style=\"display: table-cell;\"></div><div style=\"display: table-cell;\">disabled&nbsp;=&nbsp;False,</div></div><div class=\"2204\" style=\"display: none;\"><div style=\"display: table-cell;\"></div><div style=\"display: table-cell;\">height&nbsp;=&nbsp;None,</div></div><div class=\"2204\" style=\"display: none;\"><div style=\"display: table-cell;\"></div><div style=\"display: table-cell;\">height_policy&nbsp;=&nbsp;'auto',</div></div><div class=\"2204\" style=\"display: none;\"><div style=\"display: table-cell;\"></div><div style=\"display: table-cell;\">js_event_callbacks&nbsp;=&nbsp;{},</div></div><div class=\"2204\" style=\"display: none;\"><div style=\"display: table-cell;\"></div><div style=\"display: table-cell;\">js_property_callbacks&nbsp;=&nbsp;{},</div></div><div class=\"2204\" style=\"display: none;\"><div style=\"display: table-cell;\"></div><div style=\"display: table-cell;\">margin&nbsp;=&nbsp;(0, 0, 0, 0),</div></div><div class=\"2204\" style=\"display: none;\"><div style=\"display: table-cell;\"></div><div style=\"display: table-cell;\">max_height&nbsp;=&nbsp;None,</div></div><div class=\"2204\" style=\"display: none;\"><div style=\"display: table-cell;\"></div><div style=\"display: table-cell;\">max_width&nbsp;=&nbsp;None,</div></div><div class=\"2204\" style=\"display: none;\"><div style=\"display: table-cell;\"></div><div style=\"display: table-cell;\">min_height&nbsp;=&nbsp;None,</div></div><div class=\"2204\" style=\"display: none;\"><div style=\"display: table-cell;\"></div><div style=\"display: table-cell;\">min_width&nbsp;=&nbsp;None,</div></div><div class=\"2204\" style=\"display: none;\"><div style=\"display: table-cell;\"></div><div style=\"display: table-cell;\">name&nbsp;=&nbsp;None,</div></div><div class=\"2204\" style=\"display: none;\"><div style=\"display: table-cell;\"></div><div style=\"display: table-cell;\">sizing_mode&nbsp;=&nbsp;'stretch_width',</div></div><div class=\"2204\" style=\"display: none;\"><div style=\"display: table-cell;\"></div><div style=\"display: table-cell;\">spacing&nbsp;=&nbsp;0,</div></div><div class=\"2204\" style=\"display: none;\"><div style=\"display: table-cell;\"></div><div style=\"display: table-cell;\">subscribed_events&nbsp;=&nbsp;[],</div></div><div class=\"2204\" style=\"display: none;\"><div style=\"display: table-cell;\"></div><div style=\"display: table-cell;\">syncable&nbsp;=&nbsp;True,</div></div><div class=\"2204\" style=\"display: none;\"><div style=\"display: table-cell;\"></div><div style=\"display: table-cell;\">tags&nbsp;=&nbsp;[],</div></div><div class=\"2204\" style=\"display: none;\"><div style=\"display: table-cell;\"></div><div style=\"display: table-cell;\">visible&nbsp;=&nbsp;True,</div></div><div class=\"2204\" style=\"display: none;\"><div style=\"display: table-cell;\"></div><div style=\"display: table-cell;\">width&nbsp;=&nbsp;None,</div></div><div class=\"2204\" style=\"display: none;\"><div style=\"display: table-cell;\"></div><div style=\"display: table-cell;\">width_policy&nbsp;=&nbsp;'auto')</div></div></div>\n",
       "<script>\n",
       "(function() {\n",
       "  let expanded = false;\n",
       "  const ellipsis = document.getElementById(\"2205\");\n",
       "  ellipsis.addEventListener(\"click\", function() {\n",
       "    const rows = document.getElementsByClassName(\"2204\");\n",
       "    for (let i = 0; i < rows.length; i++) {\n",
       "      const el = rows[i];\n",
       "      el.style.display = expanded ? \"none\" : \"table-row\";\n",
       "    }\n",
       "    ellipsis.innerHTML = expanded ? \"&hellip;)\" : \"&lsaquo;&lsaquo;&lsaquo;\";\n",
       "    expanded = !expanded;\n",
       "  });\n",
       "})();\n",
       "</script>\n"
      ],
      "text/plain": [
       "Row(id='1474', ...)"
      ]
     },
     "execution_count": 7,
     "metadata": {},
     "output_type": "execute_result"
    }
   ],
   "source": [
    "bt.plot()"
   ]
  },
  {
   "cell_type": "code",
   "execution_count": 8,
   "metadata": {},
   "outputs": [
    {
     "data": {
      "text/plain": [
       "Start                     2023-02-22 06:08:00\n",
       "End                       2023-02-27 06:07:00\n",
       "Duration                      4 days 23:59:00\n",
       "Exposure Time [%]                    9.194444\n",
       "Equity Final [$]                 98472.648418\n",
       "Equity Peak [$]                      100000.0\n",
       "Return [%]                          -1.527352\n",
       "Buy & Hold Return [%]               -2.963834\n",
       "Return (Ann.) [%]                  -50.102855\n",
       "Volatility (Ann.) [%]                  0.9343\n",
       "Sharpe Ratio                              0.0\n",
       "Sortino Ratio                             0.0\n",
       "Calmar Ratio                              0.0\n",
       "Max. Drawdown [%]                   -1.527352\n",
       "Avg. Drawdown [%]                   -1.527352\n",
       "Max. Drawdown Duration        4 days 23:46:00\n",
       "Avg. Drawdown Duration        4 days 23:46:00\n",
       "# Trades                                  432\n",
       "Win Rate [%]                        44.907407\n",
       "Best Trade [%]                       0.049496\n",
       "Worst Trade [%]                     -0.067931\n",
       "Avg. Trade [%]                      -0.014943\n",
       "Max. Trade Duration           0 days 00:08:00\n",
       "Avg. Trade Duration           0 days 00:01:00\n",
       "Profit Factor                        0.544873\n",
       "Expectancy [%]                      -0.014931\n",
       "SQN                                  -6.28157\n",
       "_strategy                            Multiple\n",
       "_equity_curve                             ...\n",
       "_trades                        Size  Entry...\n",
       "dtype: object"
      ]
     },
     "execution_count": 8,
     "metadata": {},
     "output_type": "execute_result"
    }
   ],
   "source": [
    "output"
   ]
  },
  {
   "cell_type": "code",
   "execution_count": 8,
   "metadata": {},
   "outputs": [
    {
     "data": {
      "text/plain": [
       "Start                     2023-02-22 06:08:00\n",
       "End                       2023-02-27 06:07:00\n",
       "Duration                      4 days 23:59:00\n",
       "Exposure Time [%]                   62.291667\n",
       "Equity Final [$]                 92527.550636\n",
       "Equity Peak [$]                 100102.361703\n",
       "Return [%]                          -7.472449\n",
       "Buy & Hold Return [%]               -2.963834\n",
       "Return (Ann.) [%]                  -94.390044\n",
       "Volatility (Ann.) [%]                0.820879\n",
       "Sharpe Ratio                              0.0\n",
       "Sortino Ratio                             0.0\n",
       "Calmar Ratio                              0.0\n",
       "Max. Drawdown [%]                   -7.567065\n",
       "Avg. Drawdown [%]                   -1.526705\n",
       "Max. Drawdown Duration        4 days 23:32:00\n",
       "Avg. Drawdown Duration        0 days 23:58:00\n",
       "# Trades                                 2247\n",
       "Win Rate [%]                        46.283934\n",
       "Best Trade [%]                        0.07142\n",
       "Worst Trade [%]                     -0.096647\n",
       "Avg. Trade [%]                        -0.0141\n",
       "Max. Trade Duration           0 days 00:05:00\n",
       "Avg. Trade Duration           0 days 00:02:00\n",
       "Profit Factor                        0.650665\n",
       "Expectancy [%]                      -0.014078\n",
       "SQN                                 -9.927911\n",
       "_strategy                       MultipleBasic\n",
       "_equity_curve                             ...\n",
       "_trades                         Size  Entr...\n",
       "dtype: object"
      ]
     },
     "execution_count": 8,
     "metadata": {},
     "output_type": "execute_result"
    }
   ],
   "source": [
    "output"
   ]
  },
  {
   "cell_type": "code",
   "execution_count": 9,
   "metadata": {},
   "outputs": [
    {
     "data": {
      "text/html": [
       "<div style=\"display: table;\"><div style=\"display: table-row;\"><div style=\"display: table-cell;\"><b title=\"bokeh.models.layouts.Row\">Row</b>(</div><div style=\"display: table-cell;\">id&nbsp;=&nbsp;'1475', <span id=\"2206\" style=\"cursor: pointer;\">&hellip;)</span></div></div><div class=\"2205\" style=\"display: none;\"><div style=\"display: table-cell;\"></div><div style=\"display: table-cell;\">align&nbsp;=&nbsp;'start',</div></div><div class=\"2205\" style=\"display: none;\"><div style=\"display: table-cell;\"></div><div style=\"display: table-cell;\">aspect_ratio&nbsp;=&nbsp;None,</div></div><div class=\"2205\" style=\"display: none;\"><div style=\"display: table-cell;\"></div><div style=\"display: table-cell;\">background&nbsp;=&nbsp;None,</div></div><div class=\"2205\" style=\"display: none;\"><div style=\"display: table-cell;\"></div><div style=\"display: table-cell;\">children&nbsp;=&nbsp;[GridBox(id='1472', ...), ToolbarBox(id='1474', ...)],</div></div><div class=\"2205\" style=\"display: none;\"><div style=\"display: table-cell;\"></div><div style=\"display: table-cell;\">cols&nbsp;=&nbsp;'auto',</div></div><div class=\"2205\" style=\"display: none;\"><div style=\"display: table-cell;\"></div><div style=\"display: table-cell;\">css_classes&nbsp;=&nbsp;[],</div></div><div class=\"2205\" style=\"display: none;\"><div style=\"display: table-cell;\"></div><div style=\"display: table-cell;\">disabled&nbsp;=&nbsp;False,</div></div><div class=\"2205\" style=\"display: none;\"><div style=\"display: table-cell;\"></div><div style=\"display: table-cell;\">height&nbsp;=&nbsp;None,</div></div><div class=\"2205\" style=\"display: none;\"><div style=\"display: table-cell;\"></div><div style=\"display: table-cell;\">height_policy&nbsp;=&nbsp;'auto',</div></div><div class=\"2205\" style=\"display: none;\"><div style=\"display: table-cell;\"></div><div style=\"display: table-cell;\">js_event_callbacks&nbsp;=&nbsp;{},</div></div><div class=\"2205\" style=\"display: none;\"><div style=\"display: table-cell;\"></div><div style=\"display: table-cell;\">js_property_callbacks&nbsp;=&nbsp;{},</div></div><div class=\"2205\" style=\"display: none;\"><div style=\"display: table-cell;\"></div><div style=\"display: table-cell;\">margin&nbsp;=&nbsp;(0, 0, 0, 0),</div></div><div class=\"2205\" style=\"display: none;\"><div style=\"display: table-cell;\"></div><div style=\"display: table-cell;\">max_height&nbsp;=&nbsp;None,</div></div><div class=\"2205\" style=\"display: none;\"><div style=\"display: table-cell;\"></div><div style=\"display: table-cell;\">max_width&nbsp;=&nbsp;None,</div></div><div class=\"2205\" style=\"display: none;\"><div style=\"display: table-cell;\"></div><div style=\"display: table-cell;\">min_height&nbsp;=&nbsp;None,</div></div><div class=\"2205\" style=\"display: none;\"><div style=\"display: table-cell;\"></div><div style=\"display: table-cell;\">min_width&nbsp;=&nbsp;None,</div></div><div class=\"2205\" style=\"display: none;\"><div style=\"display: table-cell;\"></div><div style=\"display: table-cell;\">name&nbsp;=&nbsp;None,</div></div><div class=\"2205\" style=\"display: none;\"><div style=\"display: table-cell;\"></div><div style=\"display: table-cell;\">sizing_mode&nbsp;=&nbsp;'stretch_width',</div></div><div class=\"2205\" style=\"display: none;\"><div style=\"display: table-cell;\"></div><div style=\"display: table-cell;\">spacing&nbsp;=&nbsp;0,</div></div><div class=\"2205\" style=\"display: none;\"><div style=\"display: table-cell;\"></div><div style=\"display: table-cell;\">subscribed_events&nbsp;=&nbsp;[],</div></div><div class=\"2205\" style=\"display: none;\"><div style=\"display: table-cell;\"></div><div style=\"display: table-cell;\">syncable&nbsp;=&nbsp;True,</div></div><div class=\"2205\" style=\"display: none;\"><div style=\"display: table-cell;\"></div><div style=\"display: table-cell;\">tags&nbsp;=&nbsp;[],</div></div><div class=\"2205\" style=\"display: none;\"><div style=\"display: table-cell;\"></div><div style=\"display: table-cell;\">visible&nbsp;=&nbsp;True,</div></div><div class=\"2205\" style=\"display: none;\"><div style=\"display: table-cell;\"></div><div style=\"display: table-cell;\">width&nbsp;=&nbsp;None,</div></div><div class=\"2205\" style=\"display: none;\"><div style=\"display: table-cell;\"></div><div style=\"display: table-cell;\">width_policy&nbsp;=&nbsp;'auto')</div></div></div>\n",
       "<script>\n",
       "(function() {\n",
       "  let expanded = false;\n",
       "  const ellipsis = document.getElementById(\"2206\");\n",
       "  ellipsis.addEventListener(\"click\", function() {\n",
       "    const rows = document.getElementsByClassName(\"2205\");\n",
       "    for (let i = 0; i < rows.length; i++) {\n",
       "      const el = rows[i];\n",
       "      el.style.display = expanded ? \"none\" : \"table-row\";\n",
       "    }\n",
       "    ellipsis.innerHTML = expanded ? \"&hellip;)\" : \"&lsaquo;&lsaquo;&lsaquo;\";\n",
       "    expanded = !expanded;\n",
       "  });\n",
       "})();\n",
       "</script>\n"
      ],
      "text/plain": [
       "Row(id='1475', ...)"
      ]
     },
     "execution_count": 9,
     "metadata": {},
     "output_type": "execute_result"
    }
   ],
   "source": [
    "bt.plot()"
   ]
  },
  {
   "cell_type": "code",
   "execution_count": null,
   "metadata": {},
   "outputs": [],
   "source": []
  }
 ],
 "metadata": {
  "kernelspec": {
   "display_name": "algotrading",
   "language": "python",
   "name": "python3"
  },
  "language_info": {
   "codemirror_mode": {
    "name": "ipython",
    "version": 3
   },
   "file_extension": ".py",
   "mimetype": "text/x-python",
   "name": "python",
   "nbconvert_exporter": "python",
   "pygments_lexer": "ipython3",
   "version": "3.11.0"
  },
  "orig_nbformat": 4,
  "vscode": {
   "interpreter": {
    "hash": "d7e28f38b2e7e8dedca4eb50069c899efcb1253f22e3868c5ff5207e79321863"
   }
  }
 },
 "nbformat": 4,
 "nbformat_minor": 2
}
