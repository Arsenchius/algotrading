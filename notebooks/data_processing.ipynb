{
 "cells": [
  {
   "cell_type": "code",
   "execution_count": 1,
   "metadata": {},
   "outputs": [],
   "source": [
    "import pandas as pd\n",
    "data_path = \"/Users/arsenchik/Desktop/dipploma/machine_learning_in_hft/algotrading/data/data_processed/data_1min.csv\""
   ]
  },
  {
   "cell_type": "code",
   "execution_count": 2,
   "metadata": {},
   "outputs": [],
   "source": [
    "data = pd.read_csv(data_path, sep=',')"
   ]
  },
  {
   "cell_type": "code",
   "execution_count": 3,
   "metadata": {},
   "outputs": [
    {
     "data": {
      "text/html": [
       "<div>\n",
       "<style scoped>\n",
       "    .dataframe tbody tr th:only-of-type {\n",
       "        vertical-align: middle;\n",
       "    }\n",
       "\n",
       "    .dataframe tbody tr th {\n",
       "        vertical-align: top;\n",
       "    }\n",
       "\n",
       "    .dataframe thead th {\n",
       "        text-align: right;\n",
       "    }\n",
       "</style>\n",
       "<table border=\"1\" class=\"dataframe\">\n",
       "  <thead>\n",
       "    <tr style=\"text-align: right;\">\n",
       "      <th></th>\n",
       "      <th>Time</th>\n",
       "      <th>Open</th>\n",
       "      <th>High</th>\n",
       "      <th>Low</th>\n",
       "      <th>Close</th>\n",
       "      <th>Volume</th>\n",
       "    </tr>\n",
       "  </thead>\n",
       "  <tbody>\n",
       "    <tr>\n",
       "      <th>0</th>\n",
       "      <td>2022-01-03 23:06:00</td>\n",
       "      <td>46293.89</td>\n",
       "      <td>46363.56</td>\n",
       "      <td>46293.89</td>\n",
       "      <td>46313.06</td>\n",
       "      <td>35.34215</td>\n",
       "    </tr>\n",
       "    <tr>\n",
       "      <th>1</th>\n",
       "      <td>2022-01-03 23:07:00</td>\n",
       "      <td>46313.05</td>\n",
       "      <td>46334.60</td>\n",
       "      <td>46262.16</td>\n",
       "      <td>46299.58</td>\n",
       "      <td>16.99444</td>\n",
       "    </tr>\n",
       "    <tr>\n",
       "      <th>2</th>\n",
       "      <td>2022-01-03 23:08:00</td>\n",
       "      <td>46299.58</td>\n",
       "      <td>46326.37</td>\n",
       "      <td>46294.44</td>\n",
       "      <td>46294.45</td>\n",
       "      <td>12.07571</td>\n",
       "    </tr>\n",
       "    <tr>\n",
       "      <th>3</th>\n",
       "      <td>2022-01-03 23:09:00</td>\n",
       "      <td>46294.44</td>\n",
       "      <td>46310.55</td>\n",
       "      <td>46250.33</td>\n",
       "      <td>46293.49</td>\n",
       "      <td>13.63073</td>\n",
       "    </tr>\n",
       "    <tr>\n",
       "      <th>4</th>\n",
       "      <td>2022-01-03 23:10:00</td>\n",
       "      <td>46293.48</td>\n",
       "      <td>46383.68</td>\n",
       "      <td>46290.00</td>\n",
       "      <td>46351.99</td>\n",
       "      <td>31.07135</td>\n",
       "    </tr>\n",
       "    <tr>\n",
       "      <th>...</th>\n",
       "      <td>...</td>\n",
       "      <td>...</td>\n",
       "      <td>...</td>\n",
       "      <td>...</td>\n",
       "      <td>...</td>\n",
       "      <td>...</td>\n",
       "    </tr>\n",
       "    <tr>\n",
       "      <th>600003</th>\n",
       "      <td>2023-02-24 15:09:00</td>\n",
       "      <td>23773.32</td>\n",
       "      <td>23779.31</td>\n",
       "      <td>23760.50</td>\n",
       "      <td>23760.92</td>\n",
       "      <td>289.45214</td>\n",
       "    </tr>\n",
       "    <tr>\n",
       "      <th>600004</th>\n",
       "      <td>2023-02-24 15:10:00</td>\n",
       "      <td>23760.92</td>\n",
       "      <td>23765.65</td>\n",
       "      <td>23739.00</td>\n",
       "      <td>23751.00</td>\n",
       "      <td>436.08826</td>\n",
       "    </tr>\n",
       "    <tr>\n",
       "      <th>600005</th>\n",
       "      <td>2023-02-24 15:11:00</td>\n",
       "      <td>23749.65</td>\n",
       "      <td>23758.98</td>\n",
       "      <td>23721.00</td>\n",
       "      <td>23752.17</td>\n",
       "      <td>600.05702</td>\n",
       "    </tr>\n",
       "    <tr>\n",
       "      <th>600006</th>\n",
       "      <td>2023-02-24 15:12:00</td>\n",
       "      <td>23752.17</td>\n",
       "      <td>23760.05</td>\n",
       "      <td>23736.66</td>\n",
       "      <td>23749.49</td>\n",
       "      <td>293.38328</td>\n",
       "    </tr>\n",
       "    <tr>\n",
       "      <th>600007</th>\n",
       "      <td>2023-02-24 15:13:00</td>\n",
       "      <td>23750.38</td>\n",
       "      <td>23759.96</td>\n",
       "      <td>23748.46</td>\n",
       "      <td>23756.35</td>\n",
       "      <td>22.74771</td>\n",
       "    </tr>\n",
       "  </tbody>\n",
       "</table>\n",
       "<p>600008 rows × 6 columns</p>\n",
       "</div>"
      ],
      "text/plain": [
       "                       Time      Open      High       Low     Close     Volume\n",
       "0       2022-01-03 23:06:00  46293.89  46363.56  46293.89  46313.06   35.34215\n",
       "1       2022-01-03 23:07:00  46313.05  46334.60  46262.16  46299.58   16.99444\n",
       "2       2022-01-03 23:08:00  46299.58  46326.37  46294.44  46294.45   12.07571\n",
       "3       2022-01-03 23:09:00  46294.44  46310.55  46250.33  46293.49   13.63073\n",
       "4       2022-01-03 23:10:00  46293.48  46383.68  46290.00  46351.99   31.07135\n",
       "...                     ...       ...       ...       ...       ...        ...\n",
       "600003  2023-02-24 15:09:00  23773.32  23779.31  23760.50  23760.92  289.45214\n",
       "600004  2023-02-24 15:10:00  23760.92  23765.65  23739.00  23751.00  436.08826\n",
       "600005  2023-02-24 15:11:00  23749.65  23758.98  23721.00  23752.17  600.05702\n",
       "600006  2023-02-24 15:12:00  23752.17  23760.05  23736.66  23749.49  293.38328\n",
       "600007  2023-02-24 15:13:00  23750.38  23759.96  23748.46  23756.35   22.74771\n",
       "\n",
       "[600008 rows x 6 columns]"
      ]
     },
     "execution_count": 3,
     "metadata": {},
     "output_type": "execute_result"
    }
   ],
   "source": [
    "data"
   ]
  },
  {
   "cell_type": "code",
   "execution_count": 20,
   "metadata": {},
   "outputs": [],
   "source": [
    "import os\n",
    "output_dir_path = \"/Users/arsenchik/Desktop/dipploma/machine_learning_in_hft/algotrading/data/data_processed\""
   ]
  },
  {
   "cell_type": "code",
   "execution_count": 23,
   "metadata": {},
   "outputs": [],
   "source": [
    "months = {\n",
    "    '2022-05': 'data_may_1min.csv', \n",
    "    '2022-06': 'data_june_1min.csv', \n",
    "    '2022-07': 'data_july_1min.csv', \n",
    "    '2022-08': 'data_august_1min.csv',\n",
    "    '2022-09': 'data_september_1min.csv',\n",
    "    '2022-10': 'data_october_1min.csv',\n",
    "    '2022-11': 'data_november_1min.csv',\n",
    "    '2022-12': 'data_december_1min.csv',\n",
    "    '2023-01': 'data_january_1min.csv',\n",
    "    '2023-02': 'data_february_1min.csv'\n",
    "}"
   ]
  },
  {
   "cell_type": "code",
   "execution_count": 24,
   "metadata": {},
   "outputs": [],
   "source": [
    "from tqdm import tqdm\n",
    "def select_data(df, date):\n",
    "    start_index = 0\n",
    "    last_index = 0\n",
    "    for index, row in tqdm(df.iterrows(), total=df.shape[0]):\n",
    "        year_month = \"-\".join(row[\"Time\"].split()[0].split(\"-\")[:-1])\n",
    "        if year_month == date:\n",
    "            if start_index == 0:\n",
    "                start_index = index\n",
    "            else:\n",
    "                last_index = index\n",
    "    return df.iloc[start_index:last_index+1]\n"
   ]
  },
  {
   "cell_type": "code",
   "execution_count": 25,
   "metadata": {},
   "outputs": [
    {
     "name": "stderr",
     "output_type": "stream",
     "text": [
      "100%|██████████| 600008/600008 [00:07<00:00, 79170.66it/s]\n",
      "100%|██████████| 600008/600008 [00:07<00:00, 81392.81it/s]\n",
      "100%|██████████| 600008/600008 [00:07<00:00, 81084.19it/s]\n",
      "100%|██████████| 600008/600008 [00:07<00:00, 81287.77it/s]\n",
      "100%|██████████| 600008/600008 [00:07<00:00, 80688.24it/s]\n",
      "100%|██████████| 600008/600008 [00:07<00:00, 81118.37it/s]\n",
      "100%|██████████| 600008/600008 [00:07<00:00, 81346.82it/s]\n",
      "100%|██████████| 600008/600008 [00:07<00:00, 80874.48it/s]\n",
      "100%|██████████| 600008/600008 [00:07<00:00, 81174.77it/s]\n",
      "100%|██████████| 600008/600008 [00:07<00:00, 81187.98it/s]\n"
     ]
    }
   ],
   "source": [
    "for date, name in months.items():\n",
    "    select_data(data, date).to_csv(os.path.join(output_dir_path,name), index=False)"
   ]
  },
  {
   "cell_type": "code",
   "execution_count": null,
   "metadata": {},
   "outputs": [],
   "source": []
  }
 ],
 "metadata": {
  "kernelspec": {
   "display_name": "algotrading",
   "language": "python",
   "name": "python3"
  },
  "language_info": {
   "codemirror_mode": {
    "name": "ipython",
    "version": 3
   },
   "file_extension": ".py",
   "mimetype": "text/x-python",
   "name": "python",
   "nbconvert_exporter": "python",
   "pygments_lexer": "ipython3",
   "version": "3.11.0"
  },
  "orig_nbformat": 4
 },
 "nbformat": 4,
 "nbformat_minor": 2
}
