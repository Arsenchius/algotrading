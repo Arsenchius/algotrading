{
 "cells": [
  {
   "attachments": {},
   "cell_type": "markdown",
   "metadata": {},
   "source": [
    "Кустарная тетрадка с наглядным примером по запуску и тестированию стратегий\n",
    "\n",
    "ссылка{https://kernc.github.io/backtesting.py/} на документацию\n",
    "\n",
    "ссылка{https://youtu.be/e4ytbIm2Xg0} на видеоурок по библиотечке\n",
    "\n",
    "ссылка{https://youtu.be/xljQpeYQYkI} на туториал по использованию кастомных индикаторов"
   ]
  },
  {
   "cell_type": "code",
   "execution_count": 24,
   "metadata": {},
   "outputs": [],
   "source": [
    "# !pip install backtesting\n",
    "# !pip install python_binance\n",
    "# !pip install pandas"
   ]
  },
  {
   "attachments": {},
   "cell_type": "markdown",
   "metadata": {},
   "source": [
    "## Выгрузка данных"
   ]
  },
  {
   "cell_type": "code",
   "execution_count": 1,
   "metadata": {},
   "outputs": [],
   "source": [
    "from binance import Client\n",
    "import pandas as pd"
   ]
  },
  {
   "cell_type": "code",
   "execution_count": 7,
   "metadata": {},
   "outputs": [],
   "source": [
    "INTERVAL_1MINUTE = \"1m\"\n",
    "symbol = \"ETHUSDT\"\n",
    "end_date = \"10 hours ago UTC\""
   ]
  },
  {
   "cell_type": "code",
   "execution_count": 4,
   "metadata": {},
   "outputs": [],
   "source": [
    "def get_actual_data(\n",
    "    symbol: str,\n",
    "    time_frame: str = INTERVAL_1MINUTE,\n",
    "    end_date: str = \"10 hours ago UTC\",\n",
    ") -> pd.DataFrame:\n",
    "    client = Client()\n",
    "    df = pd.DataFrame(client.get_historical_klines(symbol, time_frame, end_date))\n",
    "\n",
    "    df = df.iloc[:, 0:6]\n",
    "    df.columns = [\"Time\", \"Open\", \"High\", \"Low\", \"Close\", \"Volume\"]\n",
    "    df.set_index(\"Time\", inplace=True)\n",
    "    df.index = pd.to_datetime(df.index, unit=\"ms\")\n",
    "    df = df.astype(float)\n",
    "    return df"
   ]
  },
  {
   "cell_type": "code",
   "execution_count": 9,
   "metadata": {},
   "outputs": [],
   "source": [
    "data = get_actual_data(symbol)"
   ]
  },
  {
   "cell_type": "code",
   "execution_count": 11,
   "metadata": {},
   "outputs": [
    {
     "data": {
      "text/html": [
       "<div>\n",
       "<style scoped>\n",
       "    .dataframe tbody tr th:only-of-type {\n",
       "        vertical-align: middle;\n",
       "    }\n",
       "\n",
       "    .dataframe tbody tr th {\n",
       "        vertical-align: top;\n",
       "    }\n",
       "\n",
       "    .dataframe thead th {\n",
       "        text-align: right;\n",
       "    }\n",
       "</style>\n",
       "<table border=\"1\" class=\"dataframe\">\n",
       "  <thead>\n",
       "    <tr style=\"text-align: right;\">\n",
       "      <th></th>\n",
       "      <th>Open</th>\n",
       "      <th>High</th>\n",
       "      <th>Low</th>\n",
       "      <th>Close</th>\n",
       "      <th>Volume</th>\n",
       "    </tr>\n",
       "    <tr>\n",
       "      <th>Time</th>\n",
       "      <th></th>\n",
       "      <th></th>\n",
       "      <th></th>\n",
       "      <th></th>\n",
       "      <th></th>\n",
       "    </tr>\n",
       "  </thead>\n",
       "  <tbody>\n",
       "    <tr>\n",
       "      <th>2023-06-20 22:30:00</th>\n",
       "      <td>1783.34</td>\n",
       "      <td>1783.63</td>\n",
       "      <td>1782.74</td>\n",
       "      <td>1782.75</td>\n",
       "      <td>102.2938</td>\n",
       "    </tr>\n",
       "    <tr>\n",
       "      <th>2023-06-20 22:31:00</th>\n",
       "      <td>1782.74</td>\n",
       "      <td>1783.26</td>\n",
       "      <td>1782.74</td>\n",
       "      <td>1783.25</td>\n",
       "      <td>51.3081</td>\n",
       "    </tr>\n",
       "    <tr>\n",
       "      <th>2023-06-20 22:32:00</th>\n",
       "      <td>1783.26</td>\n",
       "      <td>1783.26</td>\n",
       "      <td>1782.37</td>\n",
       "      <td>1782.37</td>\n",
       "      <td>110.0553</td>\n",
       "    </tr>\n",
       "    <tr>\n",
       "      <th>2023-06-20 22:33:00</th>\n",
       "      <td>1782.36</td>\n",
       "      <td>1783.59</td>\n",
       "      <td>1782.00</td>\n",
       "      <td>1782.78</td>\n",
       "      <td>354.0705</td>\n",
       "    </tr>\n",
       "    <tr>\n",
       "      <th>2023-06-20 22:34:00</th>\n",
       "      <td>1782.77</td>\n",
       "      <td>1782.78</td>\n",
       "      <td>1782.57</td>\n",
       "      <td>1782.77</td>\n",
       "      <td>54.2370</td>\n",
       "    </tr>\n",
       "    <tr>\n",
       "      <th>...</th>\n",
       "      <td>...</td>\n",
       "      <td>...</td>\n",
       "      <td>...</td>\n",
       "      <td>...</td>\n",
       "      <td>...</td>\n",
       "    </tr>\n",
       "    <tr>\n",
       "      <th>2023-06-21 08:25:00</th>\n",
       "      <td>1810.19</td>\n",
       "      <td>1810.19</td>\n",
       "      <td>1808.15</td>\n",
       "      <td>1808.45</td>\n",
       "      <td>210.0973</td>\n",
       "    </tr>\n",
       "    <tr>\n",
       "      <th>2023-06-21 08:26:00</th>\n",
       "      <td>1808.46</td>\n",
       "      <td>1810.00</td>\n",
       "      <td>1808.45</td>\n",
       "      <td>1809.99</td>\n",
       "      <td>219.2413</td>\n",
       "    </tr>\n",
       "    <tr>\n",
       "      <th>2023-06-21 08:27:00</th>\n",
       "      <td>1809.99</td>\n",
       "      <td>1810.00</td>\n",
       "      <td>1808.74</td>\n",
       "      <td>1808.75</td>\n",
       "      <td>117.1270</td>\n",
       "    </tr>\n",
       "    <tr>\n",
       "      <th>2023-06-21 08:28:00</th>\n",
       "      <td>1808.74</td>\n",
       "      <td>1808.84</td>\n",
       "      <td>1808.22</td>\n",
       "      <td>1808.83</td>\n",
       "      <td>311.8031</td>\n",
       "    </tr>\n",
       "    <tr>\n",
       "      <th>2023-06-21 08:29:00</th>\n",
       "      <td>1808.83</td>\n",
       "      <td>1808.84</td>\n",
       "      <td>1808.53</td>\n",
       "      <td>1808.61</td>\n",
       "      <td>37.3705</td>\n",
       "    </tr>\n",
       "  </tbody>\n",
       "</table>\n",
       "<p>600 rows × 5 columns</p>\n",
       "</div>"
      ],
      "text/plain": [
       "                        Open     High      Low    Close    Volume\n",
       "Time                                                             \n",
       "2023-06-20 22:30:00  1783.34  1783.63  1782.74  1782.75  102.2938\n",
       "2023-06-20 22:31:00  1782.74  1783.26  1782.74  1783.25   51.3081\n",
       "2023-06-20 22:32:00  1783.26  1783.26  1782.37  1782.37  110.0553\n",
       "2023-06-20 22:33:00  1782.36  1783.59  1782.00  1782.78  354.0705\n",
       "2023-06-20 22:34:00  1782.77  1782.78  1782.57  1782.77   54.2370\n",
       "...                      ...      ...      ...      ...       ...\n",
       "2023-06-21 08:25:00  1810.19  1810.19  1808.15  1808.45  210.0973\n",
       "2023-06-21 08:26:00  1808.46  1810.00  1808.45  1809.99  219.2413\n",
       "2023-06-21 08:27:00  1809.99  1810.00  1808.74  1808.75  117.1270\n",
       "2023-06-21 08:28:00  1808.74  1808.84  1808.22  1808.83  311.8031\n",
       "2023-06-21 08:29:00  1808.83  1808.84  1808.53  1808.61   37.3705\n",
       "\n",
       "[600 rows x 5 columns]"
      ]
     },
     "execution_count": 11,
     "metadata": {},
     "output_type": "execute_result"
    }
   ],
   "source": [
    "data"
   ]
  },
  {
   "attachments": {},
   "cell_type": "markdown",
   "metadata": {},
   "source": [
    "## Стратегия"
   ]
  },
  {
   "cell_type": "code",
   "execution_count": 12,
   "metadata": {},
   "outputs": [],
   "source": [
    "from backtesting import Strategy\n",
    "from backtesting.lib import crossover\n",
    "from backtesting.test import SMA"
   ]
  },
  {
   "cell_type": "code",
   "execution_count": 13,
   "metadata": {},
   "outputs": [],
   "source": [
    "class SmaCross(Strategy):\n",
    "    n1 = 10\n",
    "    n2 = 20\n",
    "\n",
    "    def init(self):\n",
    "        close = self.data.Close\n",
    "        self.sma1 = self.I(SMA, close, self.n1)\n",
    "        self.sma2 = self.I(SMA, close, self.n2)\n",
    "\n",
    "    def next(self):\n",
    "        if crossover(self.sma1, self.sma2):\n",
    "            self.buy()\n",
    "        elif crossover(self.sma2, self.sma1):\n",
    "            self.sell()"
   ]
  },
  {
   "attachments": {},
   "cell_type": "markdown",
   "metadata": {},
   "source": [
    "## Бектест"
   ]
  },
  {
   "cell_type": "code",
   "execution_count": 15,
   "metadata": {},
   "outputs": [],
   "source": [
    "from backtesting import Backtest"
   ]
  },
  {
   "cell_type": "code",
   "execution_count": 18,
   "metadata": {},
   "outputs": [],
   "source": [
    "cash = 100000\n",
    "commission = .0001\n",
    "bt_sma = Backtest(data, SmaCross, cash=cash, commission=commission)\n",
    "output = bt_sma.run()"
   ]
  },
  {
   "cell_type": "code",
   "execution_count": 19,
   "metadata": {},
   "outputs": [
    {
     "data": {
      "text/plain": [
       "Start                     2023-06-20 22:30:00\n",
       "End                       2023-06-21 08:29:00\n",
       "Duration                      0 days 09:59:00\n",
       "Exposure Time [%]                   91.833333\n",
       "Equity Final [$]                 98665.602992\n",
       "Equity Peak [$]                      100000.0\n",
       "Return [%]                          -1.334397\n",
       "Buy & Hold Return [%]                1.450568\n",
       "Return (Ann.) [%]                  -69.837828\n",
       "Volatility (Ann.) [%]                     NaN\n",
       "Sharpe Ratio                              NaN\n",
       "Sortino Ratio                             0.0\n",
       "Calmar Ratio                              0.0\n",
       "Max. Drawdown [%]                   -2.057357\n",
       "Avg. Drawdown [%]                   -2.057357\n",
       "Max. Drawdown Duration        0 days 09:11:00\n",
       "Avg. Drawdown Duration        0 days 09:11:00\n",
       "# Trades                                    1\n",
       "Win Rate [%]                              0.0\n",
       "Best Trade [%]                       -1.33493\n",
       "Worst Trade [%]                      -1.33493\n",
       "Avg. Trade [%]                       -1.33493\n",
       "Max. Trade Duration           0 days 09:10:00\n",
       "Avg. Trade Duration           0 days 09:10:00\n",
       "Profit Factor                             0.0\n",
       "Expectancy [%]                       -1.33493\n",
       "SQN                                       NaN\n",
       "_strategy                            SmaCross\n",
       "_equity_curve                             ...\n",
       "_trades                      Size  EntryBa...\n",
       "dtype: object"
      ]
     },
     "execution_count": 19,
     "metadata": {},
     "output_type": "execute_result"
    }
   ],
   "source": [
    "output"
   ]
  },
  {
   "cell_type": "code",
   "execution_count": 22,
   "metadata": {},
   "outputs": [
    {
     "data": {
      "text/html": [
       "<div style=\"display: table;\"><div style=\"display: table-row;\"><div style=\"display: table-cell;\"><b title=\"bokeh.models.layouts.Row\">Row</b>(</div><div style=\"display: table-cell;\">id&nbsp;=&nbsp;'1449', <span id=\"2063\" style=\"cursor: pointer;\">&hellip;)</span></div></div><div class=\"2062\" style=\"display: none;\"><div style=\"display: table-cell;\"></div><div style=\"display: table-cell;\">align&nbsp;=&nbsp;'start',</div></div><div class=\"2062\" style=\"display: none;\"><div style=\"display: table-cell;\"></div><div style=\"display: table-cell;\">aspect_ratio&nbsp;=&nbsp;None,</div></div><div class=\"2062\" style=\"display: none;\"><div style=\"display: table-cell;\"></div><div style=\"display: table-cell;\">background&nbsp;=&nbsp;None,</div></div><div class=\"2062\" style=\"display: none;\"><div style=\"display: table-cell;\"></div><div style=\"display: table-cell;\">children&nbsp;=&nbsp;[GridBox(id='1446', ...), ToolbarBox(id='1448', ...)],</div></div><div class=\"2062\" style=\"display: none;\"><div style=\"display: table-cell;\"></div><div style=\"display: table-cell;\">cols&nbsp;=&nbsp;'auto',</div></div><div class=\"2062\" style=\"display: none;\"><div style=\"display: table-cell;\"></div><div style=\"display: table-cell;\">css_classes&nbsp;=&nbsp;[],</div></div><div class=\"2062\" style=\"display: none;\"><div style=\"display: table-cell;\"></div><div style=\"display: table-cell;\">disabled&nbsp;=&nbsp;False,</div></div><div class=\"2062\" style=\"display: none;\"><div style=\"display: table-cell;\"></div><div style=\"display: table-cell;\">height&nbsp;=&nbsp;None,</div></div><div class=\"2062\" style=\"display: none;\"><div style=\"display: table-cell;\"></div><div style=\"display: table-cell;\">height_policy&nbsp;=&nbsp;'auto',</div></div><div class=\"2062\" style=\"display: none;\"><div style=\"display: table-cell;\"></div><div style=\"display: table-cell;\">js_event_callbacks&nbsp;=&nbsp;{},</div></div><div class=\"2062\" style=\"display: none;\"><div style=\"display: table-cell;\"></div><div style=\"display: table-cell;\">js_property_callbacks&nbsp;=&nbsp;{},</div></div><div class=\"2062\" style=\"display: none;\"><div style=\"display: table-cell;\"></div><div style=\"display: table-cell;\">margin&nbsp;=&nbsp;(0, 0, 0, 0),</div></div><div class=\"2062\" style=\"display: none;\"><div style=\"display: table-cell;\"></div><div style=\"display: table-cell;\">max_height&nbsp;=&nbsp;None,</div></div><div class=\"2062\" style=\"display: none;\"><div style=\"display: table-cell;\"></div><div style=\"display: table-cell;\">max_width&nbsp;=&nbsp;None,</div></div><div class=\"2062\" style=\"display: none;\"><div style=\"display: table-cell;\"></div><div style=\"display: table-cell;\">min_height&nbsp;=&nbsp;None,</div></div><div class=\"2062\" style=\"display: none;\"><div style=\"display: table-cell;\"></div><div style=\"display: table-cell;\">min_width&nbsp;=&nbsp;None,</div></div><div class=\"2062\" style=\"display: none;\"><div style=\"display: table-cell;\"></div><div style=\"display: table-cell;\">name&nbsp;=&nbsp;None,</div></div><div class=\"2062\" style=\"display: none;\"><div style=\"display: table-cell;\"></div><div style=\"display: table-cell;\">sizing_mode&nbsp;=&nbsp;'stretch_width',</div></div><div class=\"2062\" style=\"display: none;\"><div style=\"display: table-cell;\"></div><div style=\"display: table-cell;\">spacing&nbsp;=&nbsp;0,</div></div><div class=\"2062\" style=\"display: none;\"><div style=\"display: table-cell;\"></div><div style=\"display: table-cell;\">subscribed_events&nbsp;=&nbsp;[],</div></div><div class=\"2062\" style=\"display: none;\"><div style=\"display: table-cell;\"></div><div style=\"display: table-cell;\">syncable&nbsp;=&nbsp;True,</div></div><div class=\"2062\" style=\"display: none;\"><div style=\"display: table-cell;\"></div><div style=\"display: table-cell;\">tags&nbsp;=&nbsp;[],</div></div><div class=\"2062\" style=\"display: none;\"><div style=\"display: table-cell;\"></div><div style=\"display: table-cell;\">visible&nbsp;=&nbsp;True,</div></div><div class=\"2062\" style=\"display: none;\"><div style=\"display: table-cell;\"></div><div style=\"display: table-cell;\">width&nbsp;=&nbsp;None,</div></div><div class=\"2062\" style=\"display: none;\"><div style=\"display: table-cell;\"></div><div style=\"display: table-cell;\">width_policy&nbsp;=&nbsp;'auto')</div></div></div>\n",
       "<script>\n",
       "(function() {\n",
       "  let expanded = false;\n",
       "  const ellipsis = document.getElementById(\"2063\");\n",
       "  ellipsis.addEventListener(\"click\", function() {\n",
       "    const rows = document.getElementsByClassName(\"2062\");\n",
       "    for (let i = 0; i < rows.length; i++) {\n",
       "      const el = rows[i];\n",
       "      el.style.display = expanded ? \"none\" : \"table-row\";\n",
       "    }\n",
       "    ellipsis.innerHTML = expanded ? \"&hellip;)\" : \"&lsaquo;&lsaquo;&lsaquo;\";\n",
       "    expanded = !expanded;\n",
       "  });\n",
       "})();\n",
       "</script>\n"
      ],
      "text/plain": [
       "Row(id='1449', ...)"
      ]
     },
     "execution_count": 22,
     "metadata": {},
     "output_type": "execute_result"
    }
   ],
   "source": [
    "bt_sma.plot()"
   ]
  },
  {
   "cell_type": "code",
   "execution_count": null,
   "metadata": {},
   "outputs": [],
   "source": []
  }
 ],
 "metadata": {
  "kernelspec": {
   "display_name": "algotrading",
   "language": "python",
   "name": "python3"
  },
  "language_info": {
   "codemirror_mode": {
    "name": "ipython",
    "version": 3
   },
   "file_extension": ".py",
   "mimetype": "text/x-python",
   "name": "python",
   "nbconvert_exporter": "python",
   "pygments_lexer": "ipython3",
   "version": "3.11.0"
  },
  "orig_nbformat": 4
 },
 "nbformat": 4,
 "nbformat_minor": 2
}
