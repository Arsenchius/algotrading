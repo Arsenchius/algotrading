{
 "cells": [
  {
   "cell_type": "code",
   "execution_count": 2,
   "metadata": {},
   "outputs": [],
   "source": [
    "from backtesting import set_bokeh_output\n",
    "set_bokeh_output(notebook=False)\n",
    "\n",
    "# !python3 -m pip install bokeh==2.4.3"
   ]
  },
  {
   "cell_type": "code",
   "execution_count": 3,
   "metadata": {},
   "outputs": [],
   "source": [
    "import sys\n",
    "from datetime import timedelta"
   ]
  },
  {
   "cell_type": "code",
   "execution_count": 4,
   "metadata": {},
   "outputs": [],
   "source": [
    "# sys.path.insert(1, '/home/kenny/algotrading/model_training')\n",
    "sys.path.insert(1, \"/Users/arsenchik/Desktop/study/dipploma/machine_learning_in_hft/algotrading/src/backtesting\")\n",
    "sys.path.insert(1, '/Users/arsenchik/Desktop/study/dipploma/machine_learning_in_hft/algotrading/src/models')\n",
    "sys.path.insert(1, '/Users/arsenchik/Desktop/study/dipploma/machine_learning_in_hft/algotrading/src/configs')\n",
    "sys.path.insert(1, \"/Users/arsenchik/Desktop/study/dipploma/machine_learning_in_hft/algotrading/src/data\")"
   ]
  },
  {
   "cell_type": "code",
   "execution_count": 5,
   "metadata": {},
   "outputs": [],
   "source": [
    "import numpy as np\n",
    "import pandas as pd\n",
    "import lightgbm as lgb\n",
    "from tqdm import tqdm\n",
    "from backtesting import Backtest, Strategy\n",
    "from sqlalchemy import create_engine, text\n",
    "import pandas_ta as pta\n",
    "from backtesting.lib import crossover"
   ]
  },
  {
   "cell_type": "code",
   "execution_count": 6,
   "metadata": {},
   "outputs": [],
   "source": [
    "from strategies import MultipleBasic, SmaCross, BinaryBasic, Multiple, Binary, Random\n",
    "from config import *\n",
    "from dataset import Data\n",
    "from experiments import EXPERIMENT_ID_TO_FEATURES"
   ]
  },
  {
   "cell_type": "code",
   "execution_count": 7,
   "metadata": {},
   "outputs": [],
   "source": [
    "url = DATABASE_URL_15MINUTE\n",
    "td_days = 100"
   ]
  },
  {
   "cell_type": "code",
   "execution_count": 8,
   "metadata": {},
   "outputs": [],
   "source": [
    "engine = create_engine(url=url)\n",
    "\n",
    "with engine.connect() as connection:\n",
    "        # query = \"SELECT name FROM sqlite_schema WHERE type='table'\"\n",
    "        # symbols = [item[0] for item in connection.execute(text(query)).fetchall()]\n",
    "        # for symbol in symbols:\n",
    "        symbol = 'BTCUSDT'\n",
    "        qry = f\"SELECT * FROM '{symbol}' WHERE Open_Time < '{pd.to_datetime('today') - timedelta(days = td_days)}'\"\n",
    "        data = pd.DataFrame(connection.execute(text(qry)))\n",
    "        data['Open_Time'] = pd.to_datetime(data['Open_Time'])\n",
    "        data.set_index(\"Open_Time\", inplace=True)\n",
    "        # data.index = pd.to_datetime(data.index)\n",
    "        # data.drop(['Close_Time'], axis=1, inplace=True)\n",
    "connection.close()"
   ]
  },
  {
   "cell_type": "code",
   "execution_count": 9,
   "metadata": {},
   "outputs": [
    {
     "data": {
      "text/html": [
       "<div>\n",
       "<style scoped>\n",
       "    .dataframe tbody tr th:only-of-type {\n",
       "        vertical-align: middle;\n",
       "    }\n",
       "\n",
       "    .dataframe tbody tr th {\n",
       "        vertical-align: top;\n",
       "    }\n",
       "\n",
       "    .dataframe thead th {\n",
       "        text-align: right;\n",
       "    }\n",
       "</style>\n",
       "<table border=\"1\" class=\"dataframe\">\n",
       "  <thead>\n",
       "    <tr style=\"text-align: right;\">\n",
       "      <th></th>\n",
       "      <th>Open</th>\n",
       "      <th>High</th>\n",
       "      <th>Low</th>\n",
       "      <th>Close</th>\n",
       "      <th>Volume</th>\n",
       "    </tr>\n",
       "    <tr>\n",
       "      <th>Open_Time</th>\n",
       "      <th></th>\n",
       "      <th></th>\n",
       "      <th></th>\n",
       "      <th></th>\n",
       "      <th></th>\n",
       "    </tr>\n",
       "  </thead>\n",
       "  <tbody>\n",
       "    <tr>\n",
       "      <th>2023-02-22 06:15:00</th>\n",
       "      <td>24090.10</td>\n",
       "      <td>24097.13</td>\n",
       "      <td>24021.33</td>\n",
       "      <td>24040.45</td>\n",
       "      <td>2901.37593</td>\n",
       "    </tr>\n",
       "    <tr>\n",
       "      <th>2023-02-22 06:30:00</th>\n",
       "      <td>24039.45</td>\n",
       "      <td>24049.31</td>\n",
       "      <td>23951.57</td>\n",
       "      <td>23988.82</td>\n",
       "      <td>4538.32091</td>\n",
       "    </tr>\n",
       "    <tr>\n",
       "      <th>2023-02-22 06:45:00</th>\n",
       "      <td>23988.82</td>\n",
       "      <td>24048.62</td>\n",
       "      <td>23931.09</td>\n",
       "      <td>23950.15</td>\n",
       "      <td>4327.60748</td>\n",
       "    </tr>\n",
       "    <tr>\n",
       "      <th>2023-02-22 07:00:00</th>\n",
       "      <td>23950.15</td>\n",
       "      <td>24024.39</td>\n",
       "      <td>23931.00</td>\n",
       "      <td>24003.58</td>\n",
       "      <td>3940.67783</td>\n",
       "    </tr>\n",
       "    <tr>\n",
       "      <th>2023-02-22 07:15:00</th>\n",
       "      <td>24004.90</td>\n",
       "      <td>24088.98</td>\n",
       "      <td>23981.59</td>\n",
       "      <td>23981.59</td>\n",
       "      <td>3709.70038</td>\n",
       "    </tr>\n",
       "    <tr>\n",
       "      <th>...</th>\n",
       "      <td>...</td>\n",
       "      <td>...</td>\n",
       "      <td>...</td>\n",
       "      <td>...</td>\n",
       "      <td>...</td>\n",
       "    </tr>\n",
       "    <tr>\n",
       "      <th>2023-02-27 05:00:00</th>\n",
       "      <td>23490.81</td>\n",
       "      <td>23509.94</td>\n",
       "      <td>23450.00</td>\n",
       "      <td>23462.73</td>\n",
       "      <td>1896.65355</td>\n",
       "    </tr>\n",
       "    <tr>\n",
       "      <th>2023-02-27 05:15:00</th>\n",
       "      <td>23463.64</td>\n",
       "      <td>23487.89</td>\n",
       "      <td>23443.00</td>\n",
       "      <td>23479.82</td>\n",
       "      <td>1635.03583</td>\n",
       "    </tr>\n",
       "    <tr>\n",
       "      <th>2023-02-27 05:30:00</th>\n",
       "      <td>23479.47</td>\n",
       "      <td>23484.59</td>\n",
       "      <td>23450.00</td>\n",
       "      <td>23455.37</td>\n",
       "      <td>1561.69089</td>\n",
       "    </tr>\n",
       "    <tr>\n",
       "      <th>2023-02-27 05:45:00</th>\n",
       "      <td>23455.81</td>\n",
       "      <td>23458.32</td>\n",
       "      <td>23346.16</td>\n",
       "      <td>23391.52</td>\n",
       "      <td>4830.04990</td>\n",
       "    </tr>\n",
       "    <tr>\n",
       "      <th>2023-02-27 06:00:00</th>\n",
       "      <td>23391.13</td>\n",
       "      <td>23408.17</td>\n",
       "      <td>23370.34</td>\n",
       "      <td>23379.03</td>\n",
       "      <td>1117.51769</td>\n",
       "    </tr>\n",
       "  </tbody>\n",
       "</table>\n",
       "<p>480 rows × 5 columns</p>\n",
       "</div>"
      ],
      "text/plain": [
       "                         Open      High       Low     Close      Volume\n",
       "Open_Time                                                              \n",
       "2023-02-22 06:15:00  24090.10  24097.13  24021.33  24040.45  2901.37593\n",
       "2023-02-22 06:30:00  24039.45  24049.31  23951.57  23988.82  4538.32091\n",
       "2023-02-22 06:45:00  23988.82  24048.62  23931.09  23950.15  4327.60748\n",
       "2023-02-22 07:00:00  23950.15  24024.39  23931.00  24003.58  3940.67783\n",
       "2023-02-22 07:15:00  24004.90  24088.98  23981.59  23981.59  3709.70038\n",
       "...                       ...       ...       ...       ...         ...\n",
       "2023-02-27 05:00:00  23490.81  23509.94  23450.00  23462.73  1896.65355\n",
       "2023-02-27 05:15:00  23463.64  23487.89  23443.00  23479.82  1635.03583\n",
       "2023-02-27 05:30:00  23479.47  23484.59  23450.00  23455.37  1561.69089\n",
       "2023-02-27 05:45:00  23455.81  23458.32  23346.16  23391.52  4830.04990\n",
       "2023-02-27 06:00:00  23391.13  23408.17  23370.34  23379.03  1117.51769\n",
       "\n",
       "[480 rows x 5 columns]"
      ]
     },
     "execution_count": 9,
     "metadata": {},
     "output_type": "execute_result"
    }
   ],
   "source": [
    "data"
   ]
  },
  {
   "cell_type": "code",
   "execution_count": 10,
   "metadata": {},
   "outputs": [
    {
     "data": {
      "text/html": [
       "<div>\n",
       "<style scoped>\n",
       "    .dataframe tbody tr th:only-of-type {\n",
       "        vertical-align: middle;\n",
       "    }\n",
       "\n",
       "    .dataframe tbody tr th {\n",
       "        vertical-align: top;\n",
       "    }\n",
       "\n",
       "    .dataframe thead th {\n",
       "        text-align: right;\n",
       "    }\n",
       "</style>\n",
       "<table border=\"1\" class=\"dataframe\">\n",
       "  <thead>\n",
       "    <tr style=\"text-align: right;\">\n",
       "      <th></th>\n",
       "      <th>Open</th>\n",
       "      <th>High</th>\n",
       "      <th>Low</th>\n",
       "      <th>Close</th>\n",
       "      <th>Volume</th>\n",
       "    </tr>\n",
       "    <tr>\n",
       "      <th>Open_Time</th>\n",
       "      <th></th>\n",
       "      <th></th>\n",
       "      <th></th>\n",
       "      <th></th>\n",
       "      <th></th>\n",
       "    </tr>\n",
       "  </thead>\n",
       "  <tbody>\n",
       "    <tr>\n",
       "      <th>2023-02-22 06:15:00</th>\n",
       "      <td>24090.10</td>\n",
       "      <td>24097.13</td>\n",
       "      <td>24021.33</td>\n",
       "      <td>24040.45</td>\n",
       "      <td>2901.37593</td>\n",
       "    </tr>\n",
       "    <tr>\n",
       "      <th>2023-02-22 06:30:00</th>\n",
       "      <td>24039.45</td>\n",
       "      <td>24049.31</td>\n",
       "      <td>23951.57</td>\n",
       "      <td>23988.82</td>\n",
       "      <td>4538.32091</td>\n",
       "    </tr>\n",
       "    <tr>\n",
       "      <th>2023-02-22 06:45:00</th>\n",
       "      <td>23988.82</td>\n",
       "      <td>24048.62</td>\n",
       "      <td>23931.09</td>\n",
       "      <td>23950.15</td>\n",
       "      <td>4327.60748</td>\n",
       "    </tr>\n",
       "    <tr>\n",
       "      <th>2023-02-22 07:00:00</th>\n",
       "      <td>23950.15</td>\n",
       "      <td>24024.39</td>\n",
       "      <td>23931.00</td>\n",
       "      <td>24003.58</td>\n",
       "      <td>3940.67783</td>\n",
       "    </tr>\n",
       "    <tr>\n",
       "      <th>2023-02-22 07:15:00</th>\n",
       "      <td>24004.90</td>\n",
       "      <td>24088.98</td>\n",
       "      <td>23981.59</td>\n",
       "      <td>23981.59</td>\n",
       "      <td>3709.70038</td>\n",
       "    </tr>\n",
       "    <tr>\n",
       "      <th>...</th>\n",
       "      <td>...</td>\n",
       "      <td>...</td>\n",
       "      <td>...</td>\n",
       "      <td>...</td>\n",
       "      <td>...</td>\n",
       "    </tr>\n",
       "    <tr>\n",
       "      <th>2023-02-27 05:00:00</th>\n",
       "      <td>23490.81</td>\n",
       "      <td>23509.94</td>\n",
       "      <td>23450.00</td>\n",
       "      <td>23462.73</td>\n",
       "      <td>1896.65355</td>\n",
       "    </tr>\n",
       "    <tr>\n",
       "      <th>2023-02-27 05:15:00</th>\n",
       "      <td>23463.64</td>\n",
       "      <td>23487.89</td>\n",
       "      <td>23443.00</td>\n",
       "      <td>23479.82</td>\n",
       "      <td>1635.03583</td>\n",
       "    </tr>\n",
       "    <tr>\n",
       "      <th>2023-02-27 05:30:00</th>\n",
       "      <td>23479.47</td>\n",
       "      <td>23484.59</td>\n",
       "      <td>23450.00</td>\n",
       "      <td>23455.37</td>\n",
       "      <td>1561.69089</td>\n",
       "    </tr>\n",
       "    <tr>\n",
       "      <th>2023-02-27 05:45:00</th>\n",
       "      <td>23455.81</td>\n",
       "      <td>23458.32</td>\n",
       "      <td>23346.16</td>\n",
       "      <td>23391.52</td>\n",
       "      <td>4830.04990</td>\n",
       "    </tr>\n",
       "    <tr>\n",
       "      <th>2023-02-27 06:00:00</th>\n",
       "      <td>23391.13</td>\n",
       "      <td>23408.17</td>\n",
       "      <td>23370.34</td>\n",
       "      <td>23379.03</td>\n",
       "      <td>1117.51769</td>\n",
       "    </tr>\n",
       "  </tbody>\n",
       "</table>\n",
       "<p>480 rows × 5 columns</p>\n",
       "</div>"
      ],
      "text/plain": [
       "                         Open      High       Low     Close      Volume\n",
       "Open_Time                                                              \n",
       "2023-02-22 06:15:00  24090.10  24097.13  24021.33  24040.45  2901.37593\n",
       "2023-02-22 06:30:00  24039.45  24049.31  23951.57  23988.82  4538.32091\n",
       "2023-02-22 06:45:00  23988.82  24048.62  23931.09  23950.15  4327.60748\n",
       "2023-02-22 07:00:00  23950.15  24024.39  23931.00  24003.58  3940.67783\n",
       "2023-02-22 07:15:00  24004.90  24088.98  23981.59  23981.59  3709.70038\n",
       "...                       ...       ...       ...       ...         ...\n",
       "2023-02-27 05:00:00  23490.81  23509.94  23450.00  23462.73  1896.65355\n",
       "2023-02-27 05:15:00  23463.64  23487.89  23443.00  23479.82  1635.03583\n",
       "2023-02-27 05:30:00  23479.47  23484.59  23450.00  23455.37  1561.69089\n",
       "2023-02-27 05:45:00  23455.81  23458.32  23346.16  23391.52  4830.04990\n",
       "2023-02-27 06:00:00  23391.13  23408.17  23370.34  23379.03  1117.51769\n",
       "\n",
       "[480 rows x 5 columns]"
      ]
     },
     "execution_count": 10,
     "metadata": {},
     "output_type": "execute_result"
    }
   ],
   "source": [
    "data[data.index < data.index[0] + pd.Timedelta(days=10)]"
   ]
  },
  {
   "cell_type": "code",
   "execution_count": 11,
   "metadata": {},
   "outputs": [],
   "source": [
    "import lightgbm as lgb\n",
    "from sklearn.metrics import roc_auc_score, f1_score, accuracy_score\n",
    "\n",
    "def _slice_data(df: pd.DataFrame, timeframe: int, index_id: int) -> pd.DataFrame:\n",
    "    return df[df.index < df.index[index_id] + pd.Timedelta(days=timeframe)]\n",
    "\n",
    "\n",
    "def _training(df: pd.DataFrame):\n",
    "    model = lgb.Class"
   ]
  },
  {
   "cell_type": "code",
   "execution_count": 12,
   "metadata": {},
   "outputs": [],
   "source": [
    "# data['RSI'] = pta.rsi(data['Close'], length=21)\n",
    "# data['EMA_6'] = pta.ema(data['Close'], length=6)\n",
    "# data['EMA_22'] = pta.ema(data['Close'], length=22)\n",
    "# data['EMA_127'] = pta.ema(data['Close'], length=127)"
   ]
  },
  {
   "cell_type": "code",
   "execution_count": 13,
   "metadata": {},
   "outputs": [],
   "source": [
    "def _get_ema(close, index, length):\n",
    "    df = pd.DataFrame({\"data\": list(index), \"close\": list(close)}).set_index(\"data\")\n",
    "    return list(pta.ema(df.close, length=length))\n",
    "\n",
    "def _get_rsi(close, index, length):\n",
    "    df = pd.DataFrame(({\"data\": list(index), \"close\": list(close)})).set_index(\"data\")\n",
    "    return list(pta.rsi(df.close, length=length))\n",
    "\n",
    "def _get_macd_main_line(close, index, fast, slow, signal):\n",
    "    df = pd.DataFrame({\"data\": list(index), \"close\": list(close)}).set_index(\"data\")\n",
    "    return list(pta.macd(df.close, fast=fast, slow=slow, signal=signal)[\"MACD_12_26_9\"])\n",
    "\n",
    "def _get_macd_signal_line(close, index, fast, slow, signal):\n",
    "    df = pd.DataFrame({\"data\": list(index), \"close\": list(close)}).set_index(\"data\")\n",
    "    return list(pta.macd(df.close, fast=fast, slow=slow, signal=signal)[\"MACDs_12_26_9\"])\n",
    "\n",
    "def _get_macd_hist(close, index, fast, slow, signal):\n",
    "    df = pd.DataFrame({\"data\": list(index), \"close\": list(close)}).set_index(\"data\")\n",
    "    return list(pta.macd(df.close, fast=fast, slow=slow, signal=signal)[\"MACDh_12_26_9\"])\n"
   ]
  },
  {
   "attachments": {},
   "cell_type": "markdown",
   "metadata": {},
   "source": [
    "## Random classifier"
   ]
  },
  {
   "cell_type": "code",
   "execution_count": 14,
   "metadata": {},
   "outputs": [],
   "source": [
    "cash = 100000\n",
    "commission = .0001\n",
    "bt_random = Backtest(data, Random, cash=cash, commission=commission)\n",
    "output = bt_random.run()"
   ]
  },
  {
   "cell_type": "code",
   "execution_count": 15,
   "metadata": {},
   "outputs": [
    {
     "data": {
      "text/plain": [
       "Start                     2023-02-22 06:15:00\n",
       "End                       2023-02-27 06:00:00\n",
       "Duration                      4 days 23:45:00\n",
       "Exposure Time [%]                   99.583333\n",
       "Equity Final [$]                 98812.726422\n",
       "Equity Peak [$]                 100457.683143\n",
       "Return [%]                          -1.187274\n",
       "Buy & Hold Return [%]                -2.75128\n",
       "Return (Ann.) [%]                  -54.892111\n",
       "Volatility (Ann.) [%]                3.576117\n",
       "Sharpe Ratio                              0.0\n",
       "Sortino Ratio                             0.0\n",
       "Calmar Ratio                              0.0\n",
       "Max. Drawdown [%]                    -1.94422\n",
       "Avg. Drawdown [%]                   -0.420898\n",
       "Max. Drawdown Duration        4 days 03:30:00\n",
       "Avg. Drawdown Duration        0 days 16:58:00\n",
       "# Trades                                  244\n",
       "Win Rate [%]                        40.983607\n",
       "Best Trade [%]                       1.181789\n",
       "Worst Trade [%]                      -2.01712\n",
       "Avg. Trade [%]                      -0.020338\n",
       "Max. Trade Duration           0 days 02:15:00\n",
       "Avg. Trade Duration           0 days 00:30:00\n",
       "Profit Factor                        0.821382\n",
       "Expectancy [%]                      -0.019823\n",
       "SQN                                 -0.982685\n",
       "_strategy                              Random\n",
       "_equity_curve                             ...\n",
       "_trades                        Size  Entry...\n",
       "dtype: object"
      ]
     },
     "execution_count": 15,
     "metadata": {},
     "output_type": "execute_result"
    }
   ],
   "source": [
    "output"
   ]
  },
  {
   "cell_type": "code",
   "execution_count": 16,
   "metadata": {},
   "outputs": [
    {
     "data": {
      "text/html": [
       "<div style=\"display: table;\"><div style=\"display: table-row;\"><div style=\"display: table-cell;\"><b title=\"bokeh.models.layouts.Row\">Row</b>(</div><div style=\"display: table-cell;\">id&nbsp;=&nbsp;'1475', <span id=\"2206\" style=\"cursor: pointer;\">&hellip;)</span></div></div><div class=\"2205\" style=\"display: none;\"><div style=\"display: table-cell;\"></div><div style=\"display: table-cell;\">align&nbsp;=&nbsp;'start',</div></div><div class=\"2205\" style=\"display: none;\"><div style=\"display: table-cell;\"></div><div style=\"display: table-cell;\">aspect_ratio&nbsp;=&nbsp;None,</div></div><div class=\"2205\" style=\"display: none;\"><div style=\"display: table-cell;\"></div><div style=\"display: table-cell;\">background&nbsp;=&nbsp;None,</div></div><div class=\"2205\" style=\"display: none;\"><div style=\"display: table-cell;\"></div><div style=\"display: table-cell;\">children&nbsp;=&nbsp;[GridBox(id='1472', ...), ToolbarBox(id='1474', ...)],</div></div><div class=\"2205\" style=\"display: none;\"><div style=\"display: table-cell;\"></div><div style=\"display: table-cell;\">cols&nbsp;=&nbsp;'auto',</div></div><div class=\"2205\" style=\"display: none;\"><div style=\"display: table-cell;\"></div><div style=\"display: table-cell;\">css_classes&nbsp;=&nbsp;[],</div></div><div class=\"2205\" style=\"display: none;\"><div style=\"display: table-cell;\"></div><div style=\"display: table-cell;\">disabled&nbsp;=&nbsp;False,</div></div><div class=\"2205\" style=\"display: none;\"><div style=\"display: table-cell;\"></div><div style=\"display: table-cell;\">height&nbsp;=&nbsp;None,</div></div><div class=\"2205\" style=\"display: none;\"><div style=\"display: table-cell;\"></div><div style=\"display: table-cell;\">height_policy&nbsp;=&nbsp;'auto',</div></div><div class=\"2205\" style=\"display: none;\"><div style=\"display: table-cell;\"></div><div style=\"display: table-cell;\">js_event_callbacks&nbsp;=&nbsp;{},</div></div><div class=\"2205\" style=\"display: none;\"><div style=\"display: table-cell;\"></div><div style=\"display: table-cell;\">js_property_callbacks&nbsp;=&nbsp;{},</div></div><div class=\"2205\" style=\"display: none;\"><div style=\"display: table-cell;\"></div><div style=\"display: table-cell;\">margin&nbsp;=&nbsp;(0, 0, 0, 0),</div></div><div class=\"2205\" style=\"display: none;\"><div style=\"display: table-cell;\"></div><div style=\"display: table-cell;\">max_height&nbsp;=&nbsp;None,</div></div><div class=\"2205\" style=\"display: none;\"><div style=\"display: table-cell;\"></div><div style=\"display: table-cell;\">max_width&nbsp;=&nbsp;None,</div></div><div class=\"2205\" style=\"display: none;\"><div style=\"display: table-cell;\"></div><div style=\"display: table-cell;\">min_height&nbsp;=&nbsp;None,</div></div><div class=\"2205\" style=\"display: none;\"><div style=\"display: table-cell;\"></div><div style=\"display: table-cell;\">min_width&nbsp;=&nbsp;None,</div></div><div class=\"2205\" style=\"display: none;\"><div style=\"display: table-cell;\"></div><div style=\"display: table-cell;\">name&nbsp;=&nbsp;None,</div></div><div class=\"2205\" style=\"display: none;\"><div style=\"display: table-cell;\"></div><div style=\"display: table-cell;\">sizing_mode&nbsp;=&nbsp;'stretch_width',</div></div><div class=\"2205\" style=\"display: none;\"><div style=\"display: table-cell;\"></div><div style=\"display: table-cell;\">spacing&nbsp;=&nbsp;0,</div></div><div class=\"2205\" style=\"display: none;\"><div style=\"display: table-cell;\"></div><div style=\"display: table-cell;\">subscribed_events&nbsp;=&nbsp;[],</div></div><div class=\"2205\" style=\"display: none;\"><div style=\"display: table-cell;\"></div><div style=\"display: table-cell;\">syncable&nbsp;=&nbsp;True,</div></div><div class=\"2205\" style=\"display: none;\"><div style=\"display: table-cell;\"></div><div style=\"display: table-cell;\">tags&nbsp;=&nbsp;[],</div></div><div class=\"2205\" style=\"display: none;\"><div style=\"display: table-cell;\"></div><div style=\"display: table-cell;\">visible&nbsp;=&nbsp;True,</div></div><div class=\"2205\" style=\"display: none;\"><div style=\"display: table-cell;\"></div><div style=\"display: table-cell;\">width&nbsp;=&nbsp;None,</div></div><div class=\"2205\" style=\"display: none;\"><div style=\"display: table-cell;\"></div><div style=\"display: table-cell;\">width_policy&nbsp;=&nbsp;'auto')</div></div></div>\n",
       "<script>\n",
       "(function() {\n",
       "  let expanded = false;\n",
       "  const ellipsis = document.getElementById(\"2206\");\n",
       "  ellipsis.addEventListener(\"click\", function() {\n",
       "    const rows = document.getElementsByClassName(\"2205\");\n",
       "    for (let i = 0; i < rows.length; i++) {\n",
       "      const el = rows[i];\n",
       "      el.style.display = expanded ? \"none\" : \"table-row\";\n",
       "    }\n",
       "    ellipsis.innerHTML = expanded ? \"&hellip;)\" : \"&lsaquo;&lsaquo;&lsaquo;\";\n",
       "    expanded = !expanded;\n",
       "  });\n",
       "})();\n",
       "</script>\n"
      ],
      "text/plain": [
       "Row(id='1475', ...)"
      ]
     },
     "execution_count": 16,
     "metadata": {},
     "output_type": "execute_result"
    }
   ],
   "source": [
    "bt_random.plot()"
   ]
  },
  {
   "attachments": {},
   "cell_type": "markdown",
   "metadata": {},
   "source": [
    "## Binary LightCoin strategy"
   ]
  },
  {
   "cell_type": "code",
   "execution_count": 16,
   "metadata": {},
   "outputs": [],
   "source": [
    "binary_model_path_txt = '/Users/arsenchik/Desktop/study/dipploma/machine_learning_in_hft/algotrading/models/binary_model_1_min.txt'\n",
    "\n",
    "binary_model = lgb.Booster(model_file=binary_model_path_txt)\n",
    "\n",
    "features = EXPERIMENT_ID_TO_FEATURES[24]\n",
    "test_data = Data(data)\n",
    "test_data.create_features()\n",
    "test_data.df['predicted_proba'] = binary_model.predict(test_data.df[features])"
   ]
  },
  {
   "cell_type": "code",
   "execution_count": 17,
   "metadata": {},
   "outputs": [],
   "source": [
    "cash = 100000\n",
    "commission = .0001\n",
    "\n",
    "bt = Backtest(test_data.df, Binary, cash=cash, commission=commission)\n",
    "output = bt.run()"
   ]
  },
  {
   "cell_type": "code",
   "execution_count": 18,
   "metadata": {},
   "outputs": [
    {
     "data": {
      "text/plain": [
       "Start                     2023-02-22 06:15:00\n",
       "End                       2023-02-27 06:00:00\n",
       "Duration                      4 days 23:45:00\n",
       "Exposure Time [%]                       13.75\n",
       "Equity Final [$]                   99432.5586\n",
       "Equity Peak [$]                 100054.570674\n",
       "Return [%]                          -0.567441\n",
       "Buy & Hold Return [%]                -2.75128\n",
       "Return (Ann.) [%]                   -9.213614\n",
       "Volatility (Ann.) [%]                0.775158\n",
       "Sharpe Ratio                              0.0\n",
       "Sortino Ratio                             0.0\n",
       "Calmar Ratio                              0.0\n",
       "Max. Drawdown [%]                    -0.75796\n",
       "Avg. Drawdown [%]                    -0.43436\n",
       "Max. Drawdown Duration        4 days 21:30:00\n",
       "Avg. Drawdown Duration        2 days 11:38:00\n",
       "# Trades                                   11\n",
       "Win Rate [%]                        36.363636\n",
       "Best Trade [%]                       0.520845\n",
       "Worst Trade [%]                     -1.374494\n",
       "Avg. Trade [%]                      -0.217368\n",
       "Max. Trade Duration           0 days 01:15:00\n",
       "Avg. Trade Duration           0 days 01:15:00\n",
       "Profit Factor                        0.336825\n",
       "Expectancy [%]                      -0.216091\n",
       "SQN                                 -1.336415\n",
       "_strategy                              Binary\n",
       "_equity_curve                             ...\n",
       "_trades                       Size  EntryB...\n",
       "dtype: object"
      ]
     },
     "execution_count": 18,
     "metadata": {},
     "output_type": "execute_result"
    }
   ],
   "source": [
    "output"
   ]
  },
  {
   "cell_type": "code",
   "execution_count": 19,
   "metadata": {},
   "outputs": [
    {
     "data": {
      "text/html": [
       "<div style=\"display: table;\"><div style=\"display: table-row;\"><div style=\"display: table-cell;\"><b title=\"bokeh.models.layouts.Row\">Row</b>(</div><div style=\"display: table-cell;\">id&nbsp;=&nbsp;'2679', <span id=\"3410\" style=\"cursor: pointer;\">&hellip;)</span></div></div><div class=\"3409\" style=\"display: none;\"><div style=\"display: table-cell;\"></div><div style=\"display: table-cell;\">align&nbsp;=&nbsp;'start',</div></div><div class=\"3409\" style=\"display: none;\"><div style=\"display: table-cell;\"></div><div style=\"display: table-cell;\">aspect_ratio&nbsp;=&nbsp;None,</div></div><div class=\"3409\" style=\"display: none;\"><div style=\"display: table-cell;\"></div><div style=\"display: table-cell;\">background&nbsp;=&nbsp;None,</div></div><div class=\"3409\" style=\"display: none;\"><div style=\"display: table-cell;\"></div><div style=\"display: table-cell;\">children&nbsp;=&nbsp;[GridBox(id='2676', ...), ToolbarBox(id='2678', ...)],</div></div><div class=\"3409\" style=\"display: none;\"><div style=\"display: table-cell;\"></div><div style=\"display: table-cell;\">cols&nbsp;=&nbsp;'auto',</div></div><div class=\"3409\" style=\"display: none;\"><div style=\"display: table-cell;\"></div><div style=\"display: table-cell;\">css_classes&nbsp;=&nbsp;[],</div></div><div class=\"3409\" style=\"display: none;\"><div style=\"display: table-cell;\"></div><div style=\"display: table-cell;\">disabled&nbsp;=&nbsp;False,</div></div><div class=\"3409\" style=\"display: none;\"><div style=\"display: table-cell;\"></div><div style=\"display: table-cell;\">height&nbsp;=&nbsp;None,</div></div><div class=\"3409\" style=\"display: none;\"><div style=\"display: table-cell;\"></div><div style=\"display: table-cell;\">height_policy&nbsp;=&nbsp;'auto',</div></div><div class=\"3409\" style=\"display: none;\"><div style=\"display: table-cell;\"></div><div style=\"display: table-cell;\">js_event_callbacks&nbsp;=&nbsp;{},</div></div><div class=\"3409\" style=\"display: none;\"><div style=\"display: table-cell;\"></div><div style=\"display: table-cell;\">js_property_callbacks&nbsp;=&nbsp;{},</div></div><div class=\"3409\" style=\"display: none;\"><div style=\"display: table-cell;\"></div><div style=\"display: table-cell;\">margin&nbsp;=&nbsp;(0, 0, 0, 0),</div></div><div class=\"3409\" style=\"display: none;\"><div style=\"display: table-cell;\"></div><div style=\"display: table-cell;\">max_height&nbsp;=&nbsp;None,</div></div><div class=\"3409\" style=\"display: none;\"><div style=\"display: table-cell;\"></div><div style=\"display: table-cell;\">max_width&nbsp;=&nbsp;None,</div></div><div class=\"3409\" style=\"display: none;\"><div style=\"display: table-cell;\"></div><div style=\"display: table-cell;\">min_height&nbsp;=&nbsp;None,</div></div><div class=\"3409\" style=\"display: none;\"><div style=\"display: table-cell;\"></div><div style=\"display: table-cell;\">min_width&nbsp;=&nbsp;None,</div></div><div class=\"3409\" style=\"display: none;\"><div style=\"display: table-cell;\"></div><div style=\"display: table-cell;\">name&nbsp;=&nbsp;None,</div></div><div class=\"3409\" style=\"display: none;\"><div style=\"display: table-cell;\"></div><div style=\"display: table-cell;\">sizing_mode&nbsp;=&nbsp;'stretch_width',</div></div><div class=\"3409\" style=\"display: none;\"><div style=\"display: table-cell;\"></div><div style=\"display: table-cell;\">spacing&nbsp;=&nbsp;0,</div></div><div class=\"3409\" style=\"display: none;\"><div style=\"display: table-cell;\"></div><div style=\"display: table-cell;\">subscribed_events&nbsp;=&nbsp;[],</div></div><div class=\"3409\" style=\"display: none;\"><div style=\"display: table-cell;\"></div><div style=\"display: table-cell;\">syncable&nbsp;=&nbsp;True,</div></div><div class=\"3409\" style=\"display: none;\"><div style=\"display: table-cell;\"></div><div style=\"display: table-cell;\">tags&nbsp;=&nbsp;[],</div></div><div class=\"3409\" style=\"display: none;\"><div style=\"display: table-cell;\"></div><div style=\"display: table-cell;\">visible&nbsp;=&nbsp;True,</div></div><div class=\"3409\" style=\"display: none;\"><div style=\"display: table-cell;\"></div><div style=\"display: table-cell;\">width&nbsp;=&nbsp;None,</div></div><div class=\"3409\" style=\"display: none;\"><div style=\"display: table-cell;\"></div><div style=\"display: table-cell;\">width_policy&nbsp;=&nbsp;'auto')</div></div></div>\n",
       "<script>\n",
       "(function() {\n",
       "  let expanded = false;\n",
       "  const ellipsis = document.getElementById(\"3410\");\n",
       "  ellipsis.addEventListener(\"click\", function() {\n",
       "    const rows = document.getElementsByClassName(\"3409\");\n",
       "    for (let i = 0; i < rows.length; i++) {\n",
       "      const el = rows[i];\n",
       "      el.style.display = expanded ? \"none\" : \"table-row\";\n",
       "    }\n",
       "    ellipsis.innerHTML = expanded ? \"&hellip;)\" : \"&lsaquo;&lsaquo;&lsaquo;\";\n",
       "    expanded = !expanded;\n",
       "  });\n",
       "})();\n",
       "</script>\n"
      ],
      "text/plain": [
       "Row(id='2679', ...)"
      ]
     },
     "execution_count": 19,
     "metadata": {},
     "output_type": "execute_result"
    }
   ],
   "source": [
    "bt.plot()"
   ]
  },
  {
   "attachments": {},
   "cell_type": "markdown",
   "metadata": {},
   "source": [
    "## Multiple LigthCoin strategy"
   ]
  },
  {
   "cell_type": "code",
   "execution_count": 20,
   "metadata": {},
   "outputs": [],
   "source": [
    "cash = 100000\n",
    "commission = .0001\n",
    "\n",
    "bt = Backtest(data, Multiple, cash=cash, commission=commission)\n",
    "output = bt.run()\n",
    "# stats = bt.optimize(price_delta=[0.002, 0.004, 0.001],\n",
    "#                   maximize='Sharpe Ratio')"
   ]
  },
  {
   "cell_type": "code",
   "execution_count": 21,
   "metadata": {},
   "outputs": [
    {
     "data": {
      "text/plain": [
       "Start                     2023-02-22 06:15:00\n",
       "End                       2023-02-27 06:00:00\n",
       "Duration                      4 days 23:45:00\n",
       "Exposure Time [%]                        82.5\n",
       "Equity Final [$]                 98529.317921\n",
       "Equity Peak [$]                 100293.930315\n",
       "Return [%]                          -1.470682\n",
       "Buy & Hold Return [%]                -2.75128\n",
       "Return (Ann.) [%]                  -54.014657\n",
       "Volatility (Ann.) [%]                4.493992\n",
       "Sharpe Ratio                              0.0\n",
       "Sortino Ratio                             0.0\n",
       "Calmar Ratio                              0.0\n",
       "Max. Drawdown [%]                   -1.917481\n",
       "Avg. Drawdown [%]                   -0.806046\n",
       "Max. Drawdown Duration        3 days 18:00:00\n",
       "Avg. Drawdown Duration        1 days 14:05:00\n",
       "# Trades                                  204\n",
       "Win Rate [%]                        24.019608\n",
       "Best Trade [%]                       2.130106\n",
       "Worst Trade [%]                     -0.862477\n",
       "Avg. Trade [%]                      -0.031148\n",
       "Max. Trade Duration           0 days 07:15:00\n",
       "Avg. Trade Duration           0 days 00:16:00\n",
       "Profit Factor                        0.492785\n",
       "Expectancy [%]                      -0.030935\n",
       "SQN                                 -2.082093\n",
       "_strategy                            Multiple\n",
       "_equity_curve                             ...\n",
       "_trades                        Size  Entry...\n",
       "dtype: object"
      ]
     },
     "execution_count": 21,
     "metadata": {},
     "output_type": "execute_result"
    }
   ],
   "source": [
    "output"
   ]
  },
  {
   "cell_type": "code",
   "execution_count": 23,
   "metadata": {},
   "outputs": [
    {
     "data": {
      "text/html": [
       "<div style=\"display: table;\"><div style=\"display: table-row;\"><div style=\"display: table-cell;\"><b title=\"bokeh.models.layouts.Row\">Row</b>(</div><div style=\"display: table-cell;\">id&nbsp;=&nbsp;'5089', <span id=\"5820\" style=\"cursor: pointer;\">&hellip;)</span></div></div><div class=\"5819\" style=\"display: none;\"><div style=\"display: table-cell;\"></div><div style=\"display: table-cell;\">align&nbsp;=&nbsp;'start',</div></div><div class=\"5819\" style=\"display: none;\"><div style=\"display: table-cell;\"></div><div style=\"display: table-cell;\">aspect_ratio&nbsp;=&nbsp;None,</div></div><div class=\"5819\" style=\"display: none;\"><div style=\"display: table-cell;\"></div><div style=\"display: table-cell;\">background&nbsp;=&nbsp;None,</div></div><div class=\"5819\" style=\"display: none;\"><div style=\"display: table-cell;\"></div><div style=\"display: table-cell;\">children&nbsp;=&nbsp;[GridBox(id='5086', ...), ToolbarBox(id='5088', ...)],</div></div><div class=\"5819\" style=\"display: none;\"><div style=\"display: table-cell;\"></div><div style=\"display: table-cell;\">cols&nbsp;=&nbsp;'auto',</div></div><div class=\"5819\" style=\"display: none;\"><div style=\"display: table-cell;\"></div><div style=\"display: table-cell;\">css_classes&nbsp;=&nbsp;[],</div></div><div class=\"5819\" style=\"display: none;\"><div style=\"display: table-cell;\"></div><div style=\"display: table-cell;\">disabled&nbsp;=&nbsp;False,</div></div><div class=\"5819\" style=\"display: none;\"><div style=\"display: table-cell;\"></div><div style=\"display: table-cell;\">height&nbsp;=&nbsp;None,</div></div><div class=\"5819\" style=\"display: none;\"><div style=\"display: table-cell;\"></div><div style=\"display: table-cell;\">height_policy&nbsp;=&nbsp;'auto',</div></div><div class=\"5819\" style=\"display: none;\"><div style=\"display: table-cell;\"></div><div style=\"display: table-cell;\">js_event_callbacks&nbsp;=&nbsp;{},</div></div><div class=\"5819\" style=\"display: none;\"><div style=\"display: table-cell;\"></div><div style=\"display: table-cell;\">js_property_callbacks&nbsp;=&nbsp;{},</div></div><div class=\"5819\" style=\"display: none;\"><div style=\"display: table-cell;\"></div><div style=\"display: table-cell;\">margin&nbsp;=&nbsp;(0, 0, 0, 0),</div></div><div class=\"5819\" style=\"display: none;\"><div style=\"display: table-cell;\"></div><div style=\"display: table-cell;\">max_height&nbsp;=&nbsp;None,</div></div><div class=\"5819\" style=\"display: none;\"><div style=\"display: table-cell;\"></div><div style=\"display: table-cell;\">max_width&nbsp;=&nbsp;None,</div></div><div class=\"5819\" style=\"display: none;\"><div style=\"display: table-cell;\"></div><div style=\"display: table-cell;\">min_height&nbsp;=&nbsp;None,</div></div><div class=\"5819\" style=\"display: none;\"><div style=\"display: table-cell;\"></div><div style=\"display: table-cell;\">min_width&nbsp;=&nbsp;None,</div></div><div class=\"5819\" style=\"display: none;\"><div style=\"display: table-cell;\"></div><div style=\"display: table-cell;\">name&nbsp;=&nbsp;None,</div></div><div class=\"5819\" style=\"display: none;\"><div style=\"display: table-cell;\"></div><div style=\"display: table-cell;\">sizing_mode&nbsp;=&nbsp;'stretch_width',</div></div><div class=\"5819\" style=\"display: none;\"><div style=\"display: table-cell;\"></div><div style=\"display: table-cell;\">spacing&nbsp;=&nbsp;0,</div></div><div class=\"5819\" style=\"display: none;\"><div style=\"display: table-cell;\"></div><div style=\"display: table-cell;\">subscribed_events&nbsp;=&nbsp;[],</div></div><div class=\"5819\" style=\"display: none;\"><div style=\"display: table-cell;\"></div><div style=\"display: table-cell;\">syncable&nbsp;=&nbsp;True,</div></div><div class=\"5819\" style=\"display: none;\"><div style=\"display: table-cell;\"></div><div style=\"display: table-cell;\">tags&nbsp;=&nbsp;[],</div></div><div class=\"5819\" style=\"display: none;\"><div style=\"display: table-cell;\"></div><div style=\"display: table-cell;\">visible&nbsp;=&nbsp;True,</div></div><div class=\"5819\" style=\"display: none;\"><div style=\"display: table-cell;\"></div><div style=\"display: table-cell;\">width&nbsp;=&nbsp;None,</div></div><div class=\"5819\" style=\"display: none;\"><div style=\"display: table-cell;\"></div><div style=\"display: table-cell;\">width_policy&nbsp;=&nbsp;'auto')</div></div></div>\n",
       "<script>\n",
       "(function() {\n",
       "  let expanded = false;\n",
       "  const ellipsis = document.getElementById(\"5820\");\n",
       "  ellipsis.addEventListener(\"click\", function() {\n",
       "    const rows = document.getElementsByClassName(\"5819\");\n",
       "    for (let i = 0; i < rows.length; i++) {\n",
       "      const el = rows[i];\n",
       "      el.style.display = expanded ? \"none\" : \"table-row\";\n",
       "    }\n",
       "    ellipsis.innerHTML = expanded ? \"&hellip;)\" : \"&lsaquo;&lsaquo;&lsaquo;\";\n",
       "    expanded = !expanded;\n",
       "  });\n",
       "})();\n",
       "</script>\n"
      ],
      "text/plain": [
       "Row(id='5089', ...)"
      ]
     },
     "execution_count": 23,
     "metadata": {},
     "output_type": "execute_result"
    }
   ],
   "source": [
    "bt.plot()"
   ]
  },
  {
   "cell_type": "code",
   "execution_count": null,
   "metadata": {},
   "outputs": [],
   "source": []
  }
 ],
 "metadata": {
  "kernelspec": {
   "display_name": "algotrading",
   "language": "python",
   "name": "python3"
  },
  "language_info": {
   "codemirror_mode": {
    "name": "ipython",
    "version": 3
   },
   "file_extension": ".py",
   "mimetype": "text/x-python",
   "name": "python",
   "nbconvert_exporter": "python",
   "pygments_lexer": "ipython3",
   "version": "3.11.0"
  },
  "orig_nbformat": 4,
  "vscode": {
   "interpreter": {
    "hash": "d7e28f38b2e7e8dedca4eb50069c899efcb1253f22e3868c5ff5207e79321863"
   }
  }
 },
 "nbformat": 4,
 "nbformat_minor": 2
}
