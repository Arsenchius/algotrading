{
 "cells": [
  {
   "cell_type": "code",
   "execution_count": 22,
   "metadata": {},
   "outputs": [],
   "source": [
    "# from sqlalchemy import create_engine\n",
    "import pandas as pd\n",
    "import numpy as np\n",
    "# from binance import Client\n",
    "import matplotlib.pyplot as plt\n",
    "# import seaborn as sns\n",
    "import xgboost as xgb\n",
    "import lightgbm as lgb\n",
    "from sklearn.ensemble import RandomForestClassifier, RandomForestRegressor\n",
    "from sklearn.metrics import mean_squared_error, r2_score\n",
    "from sklearn.model_selection import TimeSeriesSplit\n",
    "import sys\n",
    "import ta\n",
    "import yaml\n",
    "from data import get_data\n",
    "import os\n",
    "sys.path.insert(1, '/Users/arsenchik/Desktop/dipploma/machine_learning_in_hft/algotrading/backtesting')\n",
    "from backtest import * \n",
    "from strategies import *\n",
    "from config import *\n",
    "# color_pal = sns.color_palette()\n",
    "# plt.style.use('fivethirtyeight')\n",
    "import warnings\n",
    "warnings.filterwarnings(\"ignore\")\n",
    "from sklearn.metrics import (\n",
    "    log_loss,\n",
    "    roc_auc_score,\n",
    "    f1_score,\n",
    "    mean_squared_error,\n",
    "    accuracy_score,\n",
    "    r2_score,\n",
    "    mean_absolute_error,\n",
    ")"
   ]
  },
  {
   "cell_type": "code",
   "execution_count": 4,
   "metadata": {},
   "outputs": [],
   "source": [
    "FEATURES = ['Open',\n",
    "    'High',\n",
    "    'Low',\n",
    "    'Volume',\n",
    "    'RSI_2',\n",
    "    'SMA_20',\n",
    "    'RSI_4',\n",
    "    'SMA_40',\n",
    "    'RSI_6',\n",
    "    'SMA_60',\n",
    "    'RSI_8',\n",
    "    'SMA_80']\n",
    "TARGET = 'Target'"
   ]
  },
  {
   "cell_type": "code",
   "execution_count": 8,
   "metadata": {},
   "outputs": [],
   "source": [
    "df = pd.read_csv('data.csv')\n",
    "df.set_index(\"Time\", inplace=True)\n",
    "df = pd.read_csv('data.csv')"
   ]
  },
  {
   "cell_type": "code",
   "execution_count": 20,
   "metadata": {},
   "outputs": [
    {
     "data": {
      "text/plain": [
       "(59921, 15)"
      ]
     },
     "execution_count": 20,
     "metadata": {},
     "output_type": "execute_result"
    }
   ],
   "source": [
    "df.shape"
   ]
  },
  {
   "cell_type": "code",
   "execution_count": 17,
   "metadata": {},
   "outputs": [
    {
     "name": "stdout",
     "output_type": "stream",
     "text": [
      "[100]\ttraining's binary_logloss: 0.652832\tvalid_1's binary_logloss: 0.695833\n",
      "[200]\ttraining's binary_logloss: 0.62319\tvalid_1's binary_logloss: 0.698619\n",
      "[300]\ttraining's binary_logloss: 0.597564\tvalid_1's binary_logloss: 0.702441\n",
      "[400]\ttraining's binary_logloss: 0.574426\tvalid_1's binary_logloss: 0.706435\n",
      "[500]\ttraining's binary_logloss: 0.553463\tvalid_1's binary_logloss: 0.711089\n",
      "[600]\ttraining's binary_logloss: 0.532816\tvalid_1's binary_logloss: 0.714488\n",
      "[700]\ttraining's binary_logloss: 0.514628\tvalid_1's binary_logloss: 0.717471\n",
      "[800]\ttraining's binary_logloss: 0.496315\tvalid_1's binary_logloss: 0.719973\n",
      "[900]\ttraining's binary_logloss: 0.480044\tvalid_1's binary_logloss: 0.722234\n",
      "[1000]\ttraining's binary_logloss: 0.465002\tvalid_1's binary_logloss: 0.725299\n",
      "[100]\ttraining's binary_logloss: 0.655826\tvalid_1's binary_logloss: 0.697673\n",
      "[200]\ttraining's binary_logloss: 0.628066\tvalid_1's binary_logloss: 0.702078\n",
      "[300]\ttraining's binary_logloss: 0.603626\tvalid_1's binary_logloss: 0.704248\n",
      "[400]\ttraining's binary_logloss: 0.582598\tvalid_1's binary_logloss: 0.71022\n",
      "[500]\ttraining's binary_logloss: 0.562441\tvalid_1's binary_logloss: 0.719419\n",
      "[600]\ttraining's binary_logloss: 0.542836\tvalid_1's binary_logloss: 0.724571\n",
      "[700]\ttraining's binary_logloss: 0.525622\tvalid_1's binary_logloss: 0.726789\n",
      "[800]\ttraining's binary_logloss: 0.509012\tvalid_1's binary_logloss: 0.731093\n",
      "[900]\ttraining's binary_logloss: 0.493127\tvalid_1's binary_logloss: 0.73412\n",
      "[1000]\ttraining's binary_logloss: 0.477706\tvalid_1's binary_logloss: 0.738094\n",
      "[100]\ttraining's binary_logloss: 0.658833\tvalid_1's binary_logloss: 0.695745\n",
      "[200]\ttraining's binary_logloss: 0.63385\tvalid_1's binary_logloss: 0.698698\n",
      "[300]\ttraining's binary_logloss: 0.610963\tvalid_1's binary_logloss: 0.702266\n",
      "[400]\ttraining's binary_logloss: 0.591526\tvalid_1's binary_logloss: 0.703893\n",
      "[500]\ttraining's binary_logloss: 0.572011\tvalid_1's binary_logloss: 0.704994\n",
      "[600]\ttraining's binary_logloss: 0.554336\tvalid_1's binary_logloss: 0.708662\n",
      "[700]\ttraining's binary_logloss: 0.537549\tvalid_1's binary_logloss: 0.710057\n",
      "[800]\ttraining's binary_logloss: 0.522119\tvalid_1's binary_logloss: 0.711968\n",
      "[900]\ttraining's binary_logloss: 0.506999\tvalid_1's binary_logloss: 0.714905\n",
      "[1000]\ttraining's binary_logloss: 0.492514\tvalid_1's binary_logloss: 0.71698\n",
      "[100]\ttraining's binary_logloss: 0.661794\tvalid_1's binary_logloss: 0.698048\n",
      "[200]\ttraining's binary_logloss: 0.638209\tvalid_1's binary_logloss: 0.703509\n",
      "[300]\ttraining's binary_logloss: 0.617253\tvalid_1's binary_logloss: 0.70872\n",
      "[400]\ttraining's binary_logloss: 0.596832\tvalid_1's binary_logloss: 0.71162\n",
      "[500]\ttraining's binary_logloss: 0.578793\tvalid_1's binary_logloss: 0.722244\n",
      "[600]\ttraining's binary_logloss: 0.561949\tvalid_1's binary_logloss: 0.727383\n",
      "[700]\ttraining's binary_logloss: 0.547047\tvalid_1's binary_logloss: 0.730711\n",
      "[800]\ttraining's binary_logloss: 0.532801\tvalid_1's binary_logloss: 0.73965\n",
      "[900]\ttraining's binary_logloss: 0.519498\tvalid_1's binary_logloss: 0.746899\n",
      "[1000]\ttraining's binary_logloss: 0.50484\tvalid_1's binary_logloss: 0.752106\n",
      "[100]\ttraining's binary_logloss: 0.664389\tvalid_1's binary_logloss: 0.698833\n",
      "[200]\ttraining's binary_logloss: 0.64305\tvalid_1's binary_logloss: 0.705277\n",
      "[300]\ttraining's binary_logloss: 0.623168\tvalid_1's binary_logloss: 0.709573\n",
      "[400]\ttraining's binary_logloss: 0.604616\tvalid_1's binary_logloss: 0.713827\n",
      "[500]\ttraining's binary_logloss: 0.58766\tvalid_1's binary_logloss: 0.717403\n",
      "[600]\ttraining's binary_logloss: 0.572048\tvalid_1's binary_logloss: 0.720263\n",
      "[700]\ttraining's binary_logloss: 0.558154\tvalid_1's binary_logloss: 0.726498\n",
      "[800]\ttraining's binary_logloss: 0.543188\tvalid_1's binary_logloss: 0.728993\n",
      "[900]\ttraining's binary_logloss: 0.528898\tvalid_1's binary_logloss: 0.733638\n",
      "[1000]\ttraining's binary_logloss: 0.516204\tvalid_1's binary_logloss: 0.743542\n"
     ]
    }
   ],
   "source": [
    "tss = TimeSeriesSplit(n_splits=5, test_size=3*24*60)\n",
    "df = df.sort_index()\n",
    "\n",
    "fold = 0\n",
    "preds = []\n",
    "scores = []\n",
    "\n",
    "for train_idx, val_idx in tss.split(df):\n",
    "    train = df.iloc[train_idx]\n",
    "    test = df.iloc[val_idx]\n",
    "\n",
    "    X_train = train[FEATURES]\n",
    "    y_train = train[TARGET]\n",
    "\n",
    "    X_test = test[FEATURES]\n",
    "    y_test = test[TARGET]\n",
    "\n",
    "    clf = lgb.LGBMClassifier(n_estimators=1000)\n",
    "    clf.fit(X_train, y_train,\n",
    "            eval_set=[(X_train, y_train), (X_test, y_test)],\n",
    "            verbose=100)\n",
    "\n",
    "    y_pred = clf.predict(X_test)\n",
    "    preds.append(y_pred)\n",
    "    score = f1_score(y_test, y_pred)\n",
    "    scores.append(score)"
   ]
  },
  {
   "cell_type": "code",
   "execution_count": 18,
   "metadata": {},
   "outputs": [
    {
     "name": "stdout",
     "output_type": "stream",
     "text": [
      "RMSE score across folds 0.4996\n",
      "Fold scores:[0.5188419117647058, 0.5426714195848187, 0.48532948532948533, 0.4695270599707459, 0.4814723926380368]\n"
     ]
    }
   ],
   "source": [
    "print(f'score across folds {np.mean(scores):0.4f}')\n",
    "print(f'Fold scores:{scores}')"
   ]
  },
  {
   "cell_type": "code",
   "execution_count": null,
   "metadata": {},
   "outputs": [],
   "source": [
    "reg = xgb.XGBRegressor(booster='gbtree',    \n",
    "                           n_estimators=1000,\n",
    "                           early_stopping_rounds=50,\n",
    "                           objective='reg:linear',\n",
    "                           max_depth=3,\n",
    "                           learning_rate=0.01)\n",
    "reg.fit(data[FEATURES], data[TARGET],\n",
    "        eval_set=[(X_train, y_train), (X_test, y_test)],\n",
    "        verbose=100)"
   ]
  },
  {
   "cell_type": "code",
   "execution_count": null,
   "metadata": {},
   "outputs": [],
   "source": []
  }
 ],
 "metadata": {
  "kernelspec": {
   "display_name": "algotrading",
   "language": "python",
   "name": "python3"
  },
  "language_info": {
   "codemirror_mode": {
    "name": "ipython",
    "version": 3
   },
   "file_extension": ".py",
   "mimetype": "text/x-python",
   "name": "python",
   "nbconvert_exporter": "python",
   "pygments_lexer": "ipython3",
   "version": "3.11.0"
  },
  "orig_nbformat": 4,
  "vscode": {
   "interpreter": {
    "hash": "faa9ef5767c3fb4c9c1caaf3256db2f643c48553e2b08e5f1fa1d6719c127eba"
   }
  }
 },
 "nbformat": 4,
 "nbformat_minor": 2
}
