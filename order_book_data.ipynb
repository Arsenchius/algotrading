{
 "cells": [
  {
   "cell_type": "code",
   "execution_count": 1,
   "metadata": {},
   "outputs": [],
   "source": [
    "import pandas as pd"
   ]
  },
  {
   "cell_type": "code",
   "execution_count": 5,
   "metadata": {},
   "outputs": [],
   "source": [
    "path = '/Users/arsenchik/Desktop/dipploma/machine_learning_in_hft/data/BNBUSDT_2023-03-04'"
   ]
  },
  {
   "cell_type": "code",
   "execution_count": 8,
   "metadata": {},
   "outputs": [],
   "source": [
    "df = pd.read_csv(path,sep='|')"
   ]
  },
  {
   "cell_type": "code",
   "execution_count": 22,
   "metadata": {},
   "outputs": [],
   "source": [
    "temp = df.iloc[100000:-1]"
   ]
  },
  {
   "cell_type": "code",
   "execution_count": 26,
   "metadata": {},
   "outputs": [
    {
     "data": {
      "text/plain": [
       "100000   2023-03-05 02:13:32.458\n",
       "100001   2023-03-05 02:13:32.493\n",
       "100002   2023-03-05 02:13:32.505\n",
       "100003   2023-03-05 02:13:32.574\n",
       "100004   2023-03-05 02:13:32.595\n",
       "                   ...          \n",
       "657401   2023-03-05 10:36:15.556\n",
       "657402   2023-03-05 10:36:15.596\n",
       "657403   2023-03-05 10:36:15.596\n",
       "657404   2023-03-05 10:36:15.633\n",
       "657405   2023-03-05 10:36:15.668\n",
       "Name: host_time, Length: 557406, dtype: datetime64[ns]"
      ]
     },
     "execution_count": 26,
     "metadata": {},
     "output_type": "execute_result"
    }
   ],
   "source": [
    "from datetime import datetime\n",
    "import numpy as np\n",
    "temp['host_time'].apply(lambda x: datetime.fromtimestamp(x / 1e9))"
   ]
  },
  {
   "cell_type": "code",
   "execution_count": 30,
   "metadata": {},
   "outputs": [
    {
     "data": {
      "text/plain": [
       "['px_buy_1',\n",
       " 'amt_buy_1',\n",
       " 'px_buy_2',\n",
       " 'amt_buy_2',\n",
       " 'px_buy_3',\n",
       " 'amt_buy_3',\n",
       " 'px_buy_4',\n",
       " 'amt_buy_4',\n",
       " 'px_buy_5',\n",
       " 'amt_buy_5',\n",
       " 'px_buy_6',\n",
       " 'amt_buy_6',\n",
       " 'px_buy_7',\n",
       " 'amt_buy_7',\n",
       " 'px_buy_8',\n",
       " 'amt_buy_8',\n",
       " 'px_buy_9',\n",
       " 'amt_buy_9',\n",
       " 'px_buy_10',\n",
       " 'amt_buy_10',\n",
       " 'px_buy_11',\n",
       " 'amt_buy_11',\n",
       " 'px_buy_12',\n",
       " 'amt_buy_12',\n",
       " 'px_buy_13',\n",
       " 'amt_buy_13',\n",
       " 'px_buy_14',\n",
       " 'amt_buy_14',\n",
       " 'px_buy_15',\n",
       " 'amt_buy_15',\n",
       " 'px_buy_16',\n",
       " 'amt_buy_16',\n",
       " 'px_buy_17',\n",
       " 'amt_buy_17',\n",
       " 'px_buy_18',\n",
       " 'amt_buy_18',\n",
       " 'px_buy_19',\n",
       " 'amt_buy_19',\n",
       " 'px_buy_20',\n",
       " 'amt_buy_20',\n",
       " 'px_buy_21',\n",
       " 'amt_buy_21',\n",
       " 'px_buy_22',\n",
       " 'amt_buy_22',\n",
       " 'px_buy_23',\n",
       " 'amt_buy_23',\n",
       " 'px_buy_24',\n",
       " 'amt_buy_24',\n",
       " 'px_buy_25',\n",
       " 'amt_buy_25',\n",
       " 'px_sell_1',\n",
       " 'amt_sell_1',\n",
       " 'px_sell_2',\n",
       " 'amt_sell_2',\n",
       " 'px_sell_3',\n",
       " 'amt_sell_3',\n",
       " 'px_sell_4',\n",
       " 'amt_sell_4',\n",
       " 'px_sell_5',\n",
       " 'amt_sell_5',\n",
       " 'px_sell_6',\n",
       " 'amt_sell_6',\n",
       " 'px_sell_7',\n",
       " 'amt_sell_7',\n",
       " 'px_sell_8',\n",
       " 'amt_sell_8',\n",
       " 'px_sell_9',\n",
       " 'amt_sell_9',\n",
       " 'px_sell_10',\n",
       " 'amt_sell_10',\n",
       " 'px_sell_11',\n",
       " 'amt_sell_11',\n",
       " 'px_sell_12',\n",
       " 'amt_sell_12',\n",
       " 'px_sell_13',\n",
       " 'amt_sell_13',\n",
       " 'px_sell_14',\n",
       " 'amt_sell_14',\n",
       " 'px_sell_15',\n",
       " 'amt_sell_15',\n",
       " 'px_sell_16',\n",
       " 'amt_sell_16',\n",
       " 'px_sell_17',\n",
       " 'amt_sell_17',\n",
       " 'px_sell_18',\n",
       " 'amt_sell_18',\n",
       " 'px_sell_19',\n",
       " 'amt_sell_19',\n",
       " 'px_sell_20',\n",
       " 'amt_sell_20',\n",
       " 'px_sell_21',\n",
       " 'amt_sell_21',\n",
       " 'px_sell_22',\n",
       " 'amt_sell_22',\n",
       " 'px_sell_23',\n",
       " 'amt_sell_23',\n",
       " 'px_sell_24',\n",
       " 'amt_sell_24',\n",
       " 'px_sell_25',\n",
       " 'amt_sell_25',\n",
       " 'aggr_trade_last_buy_px',\n",
       " 'aggr_trade_last_buy_amt',\n",
       " 'aggr_trade_last_buy_cnt',\n",
       " 'aggr_trade_last_sell_px',\n",
       " 'aggr_trade_last_sell_amt',\n",
       " 'aggr_trade_last_sell_cnt',\n",
       " 'adapter_time',\n",
       " 'host_time',\n",
       " 'sent_time',\n",
       " 'ask_mid_price']"
      ]
     },
     "execution_count": 30,
     "metadata": {},
     "output_type": "execute_result"
    }
   ],
   "source": [
    "list(temp.columns)"
   ]
  },
  {
   "cell_type": "code",
   "execution_count": 27,
   "metadata": {},
   "outputs": [
    {
     "name": "stderr",
     "output_type": "stream",
     "text": [
      "/var/folders/0x/rtgrxqs971v8y8s_v53d6h500000gn/T/ipykernel_31389/2739154999.py:1: SettingWithCopyWarning: \n",
      "A value is trying to be set on a copy of a slice from a DataFrame.\n",
      "Try using .loc[row_indexer,col_indexer] = value instead\n",
      "\n",
      "See the caveats in the documentation: https://pandas.pydata.org/pandas-docs/stable/user_guide/indexing.html#returning-a-view-versus-a-copy\n",
      "  temp['ask_mid_price'] = (temp['px_buy_1'] + temp['px_sell_1']) / 2\n"
     ]
    }
   ],
   "source": [
    "temp['ask_mid_price'] = (temp['px_buy_1'] + temp['px_sell_1']) / 2\n"
   ]
  },
  {
   "cell_type": "code",
   "execution_count": 36,
   "metadata": {},
   "outputs": [
    {
     "name": "stderr",
     "output_type": "stream",
     "text": [
      "/var/folders/0x/rtgrxqs971v8y8s_v53d6h500000gn/T/ipykernel_31389/1363902993.py:3: SettingWithCopyWarning: \n",
      "A value is trying to be set on a copy of a slice from a DataFrame.\n",
      "Try using .loc[row_indexer,col_indexer] = value instead\n",
      "\n",
      "See the caveats in the documentation: https://pandas.pydata.org/pandas-docs/stable/user_guide/indexing.html#returning-a-view-versus-a-copy\n",
      "  temp['recieve_time'] = temp['adapter_time'].apply(lambda x: datetime.fromtimestamp(x / 1e9).hour)\n"
     ]
    },
    {
     "data": {
      "image/png": "[encoded data removed]",
      "text/plain": [
       "<Figure size 640x480 with 1 Axes>"
      ]
     },
     "metadata": {},
     "output_type": "display_data"
    }
   ],
   "source": [
    "import matplotlib.pyplot as plt\n",
    "\n",
    "temp['recieve_time'] = temp['adapter_time'].apply(lambda x: datetime.fromtimestamp(x / 1e9).hour)\n",
    "temp.plot(x='recieve_time', y='ask_mid_price', kind='line', color='purple')\n",
    "plt.show()"
   ]
  },
  {
   "cell_type": "code",
   "execution_count": null,
   "metadata": {},
   "outputs": [],
   "source": []
  }
 ],
 "metadata": {
  "kernelspec": {
   "display_name": "algotrading",
   "language": "python",
   "name": "python3"
  },
  "language_info": {
   "codemirror_mode": {
    "name": "ipython",
    "version": 3
   },
   "file_extension": ".py",
   "mimetype": "text/x-python",
   "name": "python",
   "nbconvert_exporter": "python",
   "pygments_lexer": "ipython3",
   "version": "3.11.0"
  },
  "orig_nbformat": 4
 },
 "nbformat": 4,
 "nbformat_minor": 2
}
